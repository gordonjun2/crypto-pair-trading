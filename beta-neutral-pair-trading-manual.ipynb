{
 "cells": [
  {
   "cell_type": "markdown",
   "id": "0e43aa20",
   "metadata": {},
   "source": [
    "# Pairs-Trading (Beta Neutral) Strategy Analysis\n",
    "\n",
    "The beta neutral trading strategy is a market-neutral approach designed to eliminate systematic market risk by constructing a portfolio that has a net beta of zero. This strategy aims to generate alpha (excess returns above the market) by taking both long and short positions in securities such that the overall portfolio is insulated from broad market movements.\n",
    "\n",
    "Key Concepts:\n",
    "- **Beta**: A measure of a security's volatility in relation to the overall market. A beta of 1 indicates that the security moves with the market, a beta greater than 1 indicates higher volatility than the market, and a beta less than 1 indicates lower volatility.\n",
    "- **Market Neutral**: A strategy that seeks to minimize exposure to market risk, focusing on generating returns from the individual performance of securities rather than market movements.\n",
    "\n",
    "Here's how it works:\n",
    "\n",
    "- **Identifying a Pair / Basket of Tokens**: Identify a set of tokens with varying betas.\n",
    "- **Calculating Beta**: Use historical price data to calculate the beta of each token relative to a benchmark token (e.g., BTC and ETH). This can be done using regression analysis where the token's returns are regressed against the benchmark's returns.\n",
    "- **Constructing the Portfolio**: \n",
    "    - **Long Positions**: Select tokens with positive alpha (expected to outperform their beta-implied returns) and go long on these.\n",
    "    - **Short Positions**: Select tokens with negative alpha (expected to underperform their beta-implied returns) and short these.\n",
    "    - Ensure the weighted average beta of the long positions is equal to the weighted average beta of the short positions, resulting in a net beta of zero.\n",
    "- **Position Sizing**: Calculate the dollar amount for each position to ensure that the portfolio remains beta neutral. This involves balancing the dollar value of long and short positions based on their respective betas.\n",
    "- **Monitoring and Rebalancing**: Regularly monitor the portfolio to ensure it remains beta neutral. Adjust positions as necessary to maintain the desired beta neutrality, especially if there are significant changes in the market or individual tokens.\n",
    "\n",
    "In this notebook, the pair trading negative / low correlation strategy is demonstrated using cryptocurrency price data sourced from the Binance, OKX, and Bybit APIs.\n",
    "\n",
    "Special Note:\n",
    "There are **two notebooks** for Pairs-Trading (Beta Neutral) Strategy Analysis. **This notebook allow users to manually set the portfolio weights and plot the returns of portfolio compared to market. The other notebook uses CVXPY package to optimise portfolio weights given a set of data.**"
   ]
  },
  {
   "cell_type": "markdown",
   "id": "d6485699-1817-44c9-9c53-08bfb86511e9",
   "metadata": {},
   "source": [
    "## Credits\n",
    "\n",
    "This notebook references [quant_playground](https://github.com/rukawa917/quant_playground) repository by [rukawa917](https://github.com/rukawa917) and [mkt_neutral.ipynb](https://gist.github.com/FilippoGuerrieri26/8086c42db442835234dd61ea6c07decb) by [FilippoGuerrieri26](https://gist.github.com/FilippoGuerrieri26). I want to extend my sincere gratitude to them for creating this valuable resource.\n"
   ]
  },
  {
   "cell_type": "markdown",
   "id": "eab73ff6-fa1f-46cc-900b-8268a0c14305",
   "metadata": {},
   "source": [
    "## Prepare your Environment\n",
    "\n",
    "Ensure that the correct kernel is selected for this notebook. If you are following the instruction in *README.md*, the kernel is 'crypto-trading-strategies'. To check, click on 'Kernel' at the top bar, select 'Change Kernel...' and select the correct kernel. For convenience, ensure that 'Always start the preferred kernel' is ticked. Click 'Select' to confirm the setting.\n",
    "\n",
    "Install the environment's dependencies using the command below. After installation, restart the kernel to use the updated packages. To restart, click on 'Kernel' at the top bar and select 'Restart Kernel' and click on 'Restart'. Please skip this step if you have already done it."
   ]
  },
  {
   "cell_type": "code",
   "execution_count": null,
   "id": "d8d92236-023d-4e09-94c8-a65fcecd9c81",
   "metadata": {},
   "outputs": [],
   "source": [
    "pip install -r requirements.txt"
   ]
  },
  {
   "cell_type": "markdown",
   "id": "f90ad883-ce63-4504-8af6-52998aedb87d",
   "metadata": {},
   "source": [
    "## Import packages"
   ]
  },
  {
   "cell_type": "code",
   "execution_count": 1,
   "id": "c1f89e4a",
   "metadata": {
    "_cell_guid": "b1076dfc-b9ad-4769-8c92-a6c4dae69d19",
    "_uuid": "8f2839f25d086af736a60e9eeb907d3b93b6e0e5",
    "papermill": {
     "duration": 29.034008,
     "end_time": "2023-11-01T02:04:18.534845",
     "exception": false,
     "start_time": "2023-11-01T02:03:49.500837",
     "status": "completed"
    },
    "tags": []
   },
   "outputs": [],
   "source": [
    "import numpy as np \n",
    "import pandas as pd \n",
    "import matplotlib.pyplot as plt\n",
    "import matplotlib.patches as mpatches\n",
    "import os\n",
    "import sys\n",
    "from datetime import datetime\n",
    "import seaborn as sns\n",
    "from sklearn.preprocessing import MinMaxScaler\n",
    "from statsmodels.tsa.stattools import coint\n",
    "from itertools import combinations\n",
    "from statsmodels.tsa.stattools import coint\n",
    "from utils import calculate_profit, plot_strategy\n",
    "from data_manager import load_ts_df, process_data, sanitize_data\n",
    "from typing import List\n",
    "import cvxpy as cvx\n",
    "import warnings\n",
    "\n",
    "pd.set_option('display.max_rows', None)\n",
    "warnings.filterwarnings(\"ignore\")"
   ]
  },
  {
   "cell_type": "markdown",
   "id": "1bf0de13",
   "metadata": {},
   "source": [
    "## Process Price Dataframe\n",
    "\n",
    "- Before proceeding, ensure that the price data has been downloaded using ***'data_manager.py'***.\n",
    "- Enter the ***cex*** (Centralized Exchange) and ***interval*** values used for data download to load the relevant *.pkl* files and retrieve the dataframe.\n",
    "- You can specify a batch of pairs to load using the ***selected_pairs*** variable. The key represents the pair and its value represents the direction it must take (1: Long, -1: Short, 0: Does not matter). Unlike other notebooks, no pairs will be selected if the dictionary is empty.\n",
    "- Note that some pairs might be new and may lack sufficient data within the downloaded timeframe. Such pairs will be removed based on the ***nan_remove_threshold*** setting, which defines the maximum percentage of NaN values allowed relative to the total data points. For example, with a ***nan_remove_threshold*** of 0.1, if a pair has 100 data points and 15 are NaN, the pair will be excluded.\n",
    "- From the remaining pairs, you can filter the top N rolling or mean volume pairs using the ***top_n_volume_pairs*** and ***volume_filter_mode*** parameter. \n",
    "- This part of the code will also ensure that all timeseries columns have the same number of data points.\n",
    "- The earliest and latest dates for all pairs will be recorded. These dates can then be used to determine the timeframe for slicing the data in the next step."
   ]
  },
  {
   "cell_type": "markdown",
   "id": "13057dad-759b-4606-b673-6b699765f2c1",
   "metadata": {},
   "source": [
    "## Inputs"
   ]
  },
  {
   "cell_type": "code",
   "execution_count": 2,
   "id": "9ffa57f5-0ef6-49ca-847f-b439c1c63bdd",
   "metadata": {},
   "outputs": [],
   "source": [
    "##### INPUTS #####\n",
    "cex = 'binance'\n",
    "interval = '1d'\n",
    "nan_remove_threshold = 0.0\n",
    "\n",
    "# Select only the pairs below to analyse. The key represents the pair and its value represents the pair's contribution to the portfolio \n",
    "# weight. The sum of the absolute contributions must be equal to 1. Eg. selected_pairs = {'SOLUSDT': 0.8, 'ALTUSDT': -0.2}. This means \n",
    "# 0.8 of the portfolio is set to long SOLUSDT and 0.2 of the portfolio is set to short ALTUSDT. Furthermore, abs(0.8) + abs(-0.2) = \n",
    "# 0.8 + 0.2 = 1.\n",
    "selected_pairs = {'SOLUSDT': 0.7, 'ETHUSDT': -0.3}\n",
    "\n",
    "# Select the benchmark token.\n",
    "benchmark_token = 'BTCUSDT'\n",
    "\n",
    "# Select only the top N mean volume pairs from the selected pairs to analyse.\n",
    "top_n_volume_pairs = 100\n",
    "\n",
    "# Select volume filter mode. Options: ['rolling', 'mean'].\n",
    "volume_filter_mode = 'rolling'\n",
    "\n",
    "# Rolling Window\n",
    "rolling_window = 3\n",
    "##################"
   ]
  },
  {
   "cell_type": "code",
   "execution_count": 3,
   "id": "17b5ffa9-8c7e-487a-8656-31e6b5e9bf2e",
   "metadata": {},
   "outputs": [],
   "source": [
    "selected_pairs[benchmark_token] = 0\n",
    "absolute_weight_list = [abs(weight) for weight in selected_pairs.values()]\n",
    "portfolio_weights_sum = sum(absolute_weight_list)\n",
    "\n",
    "if portfolio_weights_sum != 1:\n",
    "    print(\"\\n\")\n",
    "    print(\"The sum of the absolute contributions must be equal to 1. Please change before proceeding.\")\n",
    "    print(\"\\n\")"
   ]
  },
  {
   "cell_type": "code",
   "execution_count": 4,
   "id": "aa468df5",
   "metadata": {},
   "outputs": [
    {
     "name": "stdout",
     "output_type": "stream",
     "text": [
      "\n",
      "Mode: Pairs-Trading (Beta Neutral) Strategy\n",
      "CEX: Binance\n",
      "Interval: 1d\n",
      "NaN Remove Threshold: 0.0\n",
      "Selected pairs to analyse: ['SOLUSDT', 'ETHUSDT', 'BTCUSDT']\n",
      "Benchmark Token: BTCUSDT\n",
      "Top N Volume Pairs: 100\n",
      "Volume Filter Mode: Rolling\n",
      "Rolling Window: 3\n",
      "Successfully loaded candlestick dataframe for all available pairs.\n",
      "\n",
      "Earliest time series start date: 2024-07-17\n",
      "Latest time series end date: 2024-08-06\n",
      "\n",
      "\n"
     ]
    }
   ],
   "source": [
    "print(\"\\nMode: Pairs-Trading (Beta Neutral) Strategy\")\n",
    "print(\"CEX: {}\".format(str(cex).capitalize()))\n",
    "print(\"Interval: {}\".format(interval))\n",
    "print(\"NaN Remove Threshold: {}\".format(nan_remove_threshold))\n",
    "print(\"Selected pairs to analyse: {}\".format(list(selected_pairs.keys())))\n",
    "print(\"Benchmark Token: {}\".format(benchmark_token))\n",
    "print(\"Top N Volume Pairs: {}\".format(top_n_volume_pairs))\n",
    "print(\"Volume Filter Mode: {}\".format(str(volume_filter_mode).capitalize()))\n",
    "print(\"Rolling Window: {}\".format(rolling_window))\n",
    "\n",
    "merged_df = process_data('beta_neutral', cex, interval, nan_remove_threshold, selected_pairs,\n",
    "                 top_n_volume_pairs, volume_filter_mode)\n",
    "\n",
    "print(\"\\n\")"
   ]
  },
  {
   "cell_type": "markdown",
   "id": "66614d32-8464-4265-b709-8a2d7a681acf",
   "metadata": {},
   "source": [
    "## Sanitize the dataframe\n",
    "\n",
    "- Slice the dataframe according to the specified ***start_date*** and ***end_date***. Choose ***start_date*** and ***end_date*** within the timeframe shown by the output of the previous cell.\n",
    "- Interpolate any missing values in the dataframe.\n",
    "- If the interpolation fails, just backfill with the latest valid value.\n",
    "- Verify that all is as expected with an `assert` and check the shapes of 2 random pairs, which should have the same dimensions."
   ]
  },
  {
   "cell_type": "markdown",
   "id": "1705815e-af19-428e-b1b2-2f1ffd123c1b",
   "metadata": {},
   "source": [
    "## Inputs"
   ]
  },
  {
   "cell_type": "code",
   "execution_count": 5,
   "id": "57b0551a-033f-4b9a-8ac0-d82ceef0861b",
   "metadata": {},
   "outputs": [],
   "source": [
    "##### INPUTS #####\n",
    "start_date = '2024-07-17' # refer to the previous output to set\n",
    "end_date = '2024-08-06' # refer to the previous output to set\n",
    "##################"
   ]
  },
  {
   "cell_type": "code",
   "execution_count": 6,
   "id": "b1c499c5-4313-40e1-bb52-ae3462912b5c",
   "metadata": {},
   "outputs": [
    {
     "name": "stdout",
     "output_type": "stream",
     "text": [
      "\n",
      "\n",
      "-Data Check-\n",
      "BTCUSDT's Data Shape: (20, 1)\n",
      "ETHUSDT's Data Shape: (20, 1)\n",
      "\n",
      "\n"
     ]
    }
   ],
   "source": [
    "print(\"\\n\")\n",
    "\n",
    "data_sanitized, sorted_available_pairs = sanitize_data(merged_df, start_date, end_date)\n",
    "\n",
    "if data_sanitized:\n",
    "    print(\"-Data Check-\")\n",
    "    keys = list(data_sanitized.keys())\n",
    "    count = 0\n",
    "\n",
    "    for key in keys:\n",
    "        print(\"{}'s Data Shape: {}\".format(key, data_sanitized[key].shape))\n",
    "        count+=1\n",
    "\n",
    "        if count == 2:\n",
    "            break\n",
    "            \n",
    "else:\n",
    "    print(\"No data found.\")\n",
    "\n",
    "print(\"\\n\")"
   ]
  },
  {
   "cell_type": "markdown",
   "id": "b87a62a5",
   "metadata": {},
   "source": [
    "## Compute Percentage Returns\n",
    "\n",
    "To compute percentage returns with a time series of close data, you first need to calculate the daily returns by finding the percentage change between consecutive prices. This can be done using the formula below:\n",
    "$$Percentage \\space Return = \\frac{Price_{t} - Price_{t-1}}{Price_{t-1}} \\times 100$$\n",
    "1. ${Price_{t}}$ is the calculated price on day t.\n",
    "2. ${Price_{t-1}}$ is the calculated price on the previous candlestick.\n",
    "\n",
    "In a pandas DataFrame, this can be efficiently computed using the pct_change() method on the price column. The resulting series represents the daily percentage returns, reflecting the day-to-day performance of the asset. Summarizing or compounding these daily returns over longer periods can provide insights into the overall performance of the asset over time."
   ]
  },
  {
   "cell_type": "code",
   "execution_count": 7,
   "id": "9e53c419-c425-46da-8e69-c9087ef98586",
   "metadata": {},
   "outputs": [
    {
     "name": "stdout",
     "output_type": "stream",
     "text": [
      "\n",
      "\n",
      "-Data Check-\n",
      "Percentage Returns' Data Shape (should be 1 row lesser than printed above): (19, 3)\n",
      "\n",
      "\n"
     ]
    }
   ],
   "source": [
    "print(\"\\n\")\n",
    "\n",
    "returns = pd.DataFrame()\n",
    "\n",
    "for pair, df in data_sanitized.items():\n",
    "    tmp_return_df = df['Close'].pct_change().dropna().to_frame(name=pair)\n",
    "    returns = pd.merge(returns, tmp_return_df, how='outer', left_index=True, right_index=True)\n",
    "returns = returns.T.sort_index().T\n",
    "\n",
    "print(\"-Data Check-\")\n",
    "print(\"Percentage Returns' Data Shape (should be 1 row lesser than printed above): {}\".format(returns.shape))\n",
    "print(\"\\n\")\n"
   ]
  },
  {
   "cell_type": "code",
   "execution_count": 8,
   "id": "5f2ebbce-f593-42c2-8401-c2b050a0c1de",
   "metadata": {},
   "outputs": [
    {
     "name": "stdout",
     "output_type": "stream",
     "text": [
      "\n",
      "\n",
      "-Data Check-\n",
      "Full Returns' Data Shape: (19, 3)\n",
      "\n",
      "\n"
     ]
    }
   ],
   "source": [
    "print(\"\\n\")\n",
    "\n",
    "full_return_df = returns.reset_index().set_index('Open Time')\n",
    "\n",
    "print(\"-Data Check-\")\n",
    "print(\"Full Returns' Data Shape: {}\".format(full_return_df.shape))\n",
    "\n",
    "print(\"\\n\")"
   ]
  },
  {
   "cell_type": "markdown",
   "id": "ddd4abaa-25d4-43be-b67c-738fe6603497",
   "metadata": {},
   "source": [
    "## Full Covariance Matrix"
   ]
  },
  {
   "cell_type": "code",
   "execution_count": 9,
   "id": "a16ece79-b2bb-4755-a64f-49e06cb859c0",
   "metadata": {},
   "outputs": [
    {
     "data": {
      "text/html": [
       "<div>\n",
       "<style scoped>\n",
       "    .dataframe tbody tr th:only-of-type {\n",
       "        vertical-align: middle;\n",
       "    }\n",
       "\n",
       "    .dataframe tbody tr th {\n",
       "        vertical-align: top;\n",
       "    }\n",
       "\n",
       "    .dataframe thead th {\n",
       "        text-align: right;\n",
       "    }\n",
       "</style>\n",
       "<table border=\"1\" class=\"dataframe\">\n",
       "  <thead>\n",
       "    <tr style=\"text-align: right;\">\n",
       "      <th></th>\n",
       "      <th>BTCUSDT</th>\n",
       "      <th>ETHUSDT</th>\n",
       "      <th>SOLUSDT</th>\n",
       "    </tr>\n",
       "  </thead>\n",
       "  <tbody>\n",
       "    <tr>\n",
       "      <th>BTCUSDT</th>\n",
       "      <td>0.000446</td>\n",
       "      <td>0.000474</td>\n",
       "      <td>0.000643</td>\n",
       "    </tr>\n",
       "    <tr>\n",
       "      <th>ETHUSDT</th>\n",
       "      <td>0.000474</td>\n",
       "      <td>0.000750</td>\n",
       "      <td>0.000688</td>\n",
       "    </tr>\n",
       "    <tr>\n",
       "      <th>SOLUSDT</th>\n",
       "      <td>0.000643</td>\n",
       "      <td>0.000688</td>\n",
       "      <td>0.001302</td>\n",
       "    </tr>\n",
       "  </tbody>\n",
       "</table>\n",
       "</div>"
      ],
      "text/plain": [
       "          BTCUSDT   ETHUSDT   SOLUSDT\n",
       "BTCUSDT  0.000446  0.000474  0.000643\n",
       "ETHUSDT  0.000474  0.000750  0.000688\n",
       "SOLUSDT  0.000643  0.000688  0.001302"
      ]
     },
     "execution_count": 9,
     "metadata": {},
     "output_type": "execute_result"
    }
   ],
   "source": [
    "Sigma = full_return_df.cov()\n",
    "Sigma"
   ]
  },
  {
   "cell_type": "markdown",
   "id": "b8ec059a-a3e9-45d8-aa61-5071fcb8da46",
   "metadata": {},
   "source": [
    "## Full Correlation Matrix"
   ]
  },
  {
   "cell_type": "code",
   "execution_count": 10,
   "id": "5a0141d3-8821-4b83-b297-88cdb393686f",
   "metadata": {},
   "outputs": [
    {
     "data": {
      "text/html": [
       "<div>\n",
       "<style scoped>\n",
       "    .dataframe tbody tr th:only-of-type {\n",
       "        vertical-align: middle;\n",
       "    }\n",
       "\n",
       "    .dataframe tbody tr th {\n",
       "        vertical-align: top;\n",
       "    }\n",
       "\n",
       "    .dataframe thead th {\n",
       "        text-align: right;\n",
       "    }\n",
       "</style>\n",
       "<table border=\"1\" class=\"dataframe\">\n",
       "  <thead>\n",
       "    <tr style=\"text-align: right;\">\n",
       "      <th></th>\n",
       "      <th>BTCUSDT</th>\n",
       "      <th>ETHUSDT</th>\n",
       "      <th>SOLUSDT</th>\n",
       "    </tr>\n",
       "  </thead>\n",
       "  <tbody>\n",
       "    <tr>\n",
       "      <th>BTCUSDT</th>\n",
       "      <td>1.000000</td>\n",
       "      <td>0.81913</td>\n",
       "      <td>0.843597</td>\n",
       "    </tr>\n",
       "    <tr>\n",
       "      <th>ETHUSDT</th>\n",
       "      <td>0.819130</td>\n",
       "      <td>1.00000</td>\n",
       "      <td>0.696100</td>\n",
       "    </tr>\n",
       "    <tr>\n",
       "      <th>SOLUSDT</th>\n",
       "      <td>0.843597</td>\n",
       "      <td>0.69610</td>\n",
       "      <td>1.000000</td>\n",
       "    </tr>\n",
       "  </tbody>\n",
       "</table>\n",
       "</div>"
      ],
      "text/plain": [
       "          BTCUSDT  ETHUSDT   SOLUSDT\n",
       "BTCUSDT  1.000000  0.81913  0.843597\n",
       "ETHUSDT  0.819130  1.00000  0.696100\n",
       "SOLUSDT  0.843597  0.69610  1.000000"
      ]
     },
     "execution_count": 10,
     "metadata": {},
     "output_type": "execute_result"
    }
   ],
   "source": [
    "std_dev = np.sqrt(np.diag(Sigma))\n",
    "std_dev_outer = np.outer(std_dev, std_dev)\n",
    "correlation_matrix = Sigma / std_dev_outer\n",
    "np.fill_diagonal(correlation_matrix.values, 1)\n",
    "correlation_matrix"
   ]
  },
  {
   "cell_type": "markdown",
   "id": "dbb0559b-0a8d-424c-aaf6-51bd93cd7415",
   "metadata": {},
   "source": [
    "## Calculate Betas given the Datetime Period"
   ]
  },
  {
   "cell_type": "code",
   "execution_count": 11,
   "id": "b84588b9-faad-4b0d-a6a0-f0e4a7e14c88",
   "metadata": {},
   "outputs": [
    {
     "name": "stdout",
     "output_type": "stream",
     "text": [
      "\n",
      "\n",
      "-Data Check-\n",
      "Betas:\n",
      "SOLUSDT    1.44212\n",
      "ETHUSDT    1.06266\n",
      "Name: BTCUSDT, dtype: float64\n",
      "\n",
      "\n"
     ]
    }
   ],
   "source": [
    "print(\"\\n\")\n",
    "\n",
    "betas = Sigma[benchmark_token] / Sigma.loc[benchmark_token, benchmark_token]\n",
    "betas_without_benchmark = betas.drop(benchmark_token)\n",
    "betas_without_benchmark = betas_without_benchmark.sort_values(ascending=False)\n",
    "\n",
    "print(\"-Data Check-\")\n",
    "print(\"Betas:\")\n",
    "print(betas_without_benchmark)\n",
    "\n",
    "betas_without_benchmark = betas_without_benchmark.sort_index()\n",
    "\n",
    "print(\"\\n\")"
   ]
  },
  {
   "cell_type": "markdown",
   "id": "be775818-37b0-4687-896c-97ae1411ced7",
   "metadata": {},
   "source": [
    "## Covariance Matrix without Benchmark"
   ]
  },
  {
   "cell_type": "code",
   "execution_count": 12,
   "id": "c2a8423c-a2b8-4c14-8912-cb69837dee98",
   "metadata": {},
   "outputs": [
    {
     "data": {
      "text/html": [
       "<div>\n",
       "<style scoped>\n",
       "    .dataframe tbody tr th:only-of-type {\n",
       "        vertical-align: middle;\n",
       "    }\n",
       "\n",
       "    .dataframe tbody tr th {\n",
       "        vertical-align: top;\n",
       "    }\n",
       "\n",
       "    .dataframe thead th {\n",
       "        text-align: right;\n",
       "    }\n",
       "</style>\n",
       "<table border=\"1\" class=\"dataframe\">\n",
       "  <thead>\n",
       "    <tr style=\"text-align: right;\">\n",
       "      <th></th>\n",
       "      <th>ETHUSDT</th>\n",
       "      <th>SOLUSDT</th>\n",
       "    </tr>\n",
       "  </thead>\n",
       "  <tbody>\n",
       "    <tr>\n",
       "      <th>ETHUSDT</th>\n",
       "      <td>0.000750</td>\n",
       "      <td>0.000688</td>\n",
       "    </tr>\n",
       "    <tr>\n",
       "      <th>SOLUSDT</th>\n",
       "      <td>0.000688</td>\n",
       "      <td>0.001302</td>\n",
       "    </tr>\n",
       "  </tbody>\n",
       "</table>\n",
       "</div>"
      ],
      "text/plain": [
       "          ETHUSDT   SOLUSDT\n",
       "ETHUSDT  0.000750  0.000688\n",
       "SOLUSDT  0.000688  0.001302"
      ]
     },
     "execution_count": 12,
     "metadata": {},
     "output_type": "execute_result"
    }
   ],
   "source": [
    "full_return_df_without_benchmark = full_return_df.drop(benchmark_token, axis=1)  # since we are using BTC as the benchmark\n",
    "final_Sigma = full_return_df_without_benchmark.cov()\n",
    "final_Sigma"
   ]
  },
  {
   "cell_type": "markdown",
   "id": "f0a614d6-9e0d-43c4-93ac-4589ab9a74a8",
   "metadata": {},
   "source": [
    "## Setting Portfolio Weights"
   ]
  },
  {
   "cell_type": "code",
   "execution_count": 13,
   "id": "cf0a683c-31ab-4b21-97b7-8c3b966ccb8a",
   "metadata": {},
   "outputs": [],
   "source": [
    "weights = []\n",
    "\n",
    "for col in final_Sigma.columns:\n",
    "    weights.append(selected_pairs[col])"
   ]
  },
  {
   "cell_type": "markdown",
   "id": "f7c15440-dceb-40ce-8084-d9723b555df2",
   "metadata": {},
   "source": [
    "## Plot Portfolio Weights"
   ]
  },
  {
   "cell_type": "code",
   "execution_count": 14,
   "id": "4edcb202-0b18-48df-85ce-3f57333a5410",
   "metadata": {},
   "outputs": [
    {
     "data": {
      "image/png": "[encoded data removed]",
      "text/plain": [
       "<Figure size 500x600 with 1 Axes>"
      ]
     },
     "metadata": {},
     "output_type": "display_data"
    }
   ],
   "source": [
    "w = pd.Series(weights, index=final_Sigma.columns)\n",
    "\n",
    "index = list(w.index)\n",
    "values = list(w.values)\n",
    "\n",
    "plt.figure(figsize=(5, 6))\n",
    "\n",
    "long_patch = mpatches.Patch(color='green', label='Long')\n",
    "short_patch = mpatches.Patch(color='red', label='Short')\n",
    "\n",
    "colors = ['green' if val >= 0 else 'red' for val in values]\n",
    "plt.bar(w.index, w.values, color=colors)\n",
    "plt.title('Porfolio 1')\n",
    "plt.xlabel('Pairs', fontsize=14)\n",
    "plt.ylabel('Weights', fontsize=14)\n",
    "plt.legend(handles=[long_patch, short_patch])\n",
    "\n",
    "plt.tight_layout()\n",
    "plt.show()"
   ]
  },
  {
   "cell_type": "code",
   "execution_count": 15,
   "id": "ca6ef439-6ccd-4464-bae7-3ff0a6192aa5",
   "metadata": {},
   "outputs": [
    {
     "name": "stdout",
     "output_type": "stream",
     "text": [
      "\n",
      "\n",
      "Portfolio:\n",
      "         Weights Direction\n",
      "SOLUSDT      0.7      Long\n",
      "ETHUSDT     -0.3     Short\n",
      "\n",
      "\n"
     ]
    }
   ],
   "source": [
    "print(\"\\n\")\n",
    "\n",
    "weights_df = pd.DataFrame(w, columns=['Weights'], index=w.index)\n",
    "weights_df = weights_df.sort_values(by='Weights', ascending=False)\n",
    "weights_df['Direction'] = weights_df['Weights'].apply(lambda x: 'Long' if x > 0 else 'Short')\n",
    "\n",
    "print(\"Portfolio:\")\n",
    "print(weights_df)\n",
    "\n",
    "print(\"\\n\")"
   ]
  },
  {
   "cell_type": "markdown",
   "id": "a1ae03b1-0322-4c22-b841-aabee7e5aac6",
   "metadata": {},
   "source": [
    "## Using Fixed Portfolio Weights with Rolling Portfolio Beta"
   ]
  },
  {
   "cell_type": "code",
   "execution_count": 16,
   "id": "8a0444cb-297d-4d90-886a-81ace9fc0c50",
   "metadata": {},
   "outputs": [
    {
     "data": {
      "text/html": [
       "<div>\n",
       "<style scoped>\n",
       "    .dataframe tbody tr th:only-of-type {\n",
       "        vertical-align: middle;\n",
       "    }\n",
       "\n",
       "    .dataframe tbody tr th {\n",
       "        vertical-align: top;\n",
       "    }\n",
       "\n",
       "    .dataframe thead th {\n",
       "        text-align: right;\n",
       "    }\n",
       "</style>\n",
       "<table border=\"1\" class=\"dataframe\">\n",
       "  <thead>\n",
       "    <tr style=\"text-align: right;\">\n",
       "      <th></th>\n",
       "      <th></th>\n",
       "      <th>BTCUSDT</th>\n",
       "      <th>ETHUSDT</th>\n",
       "      <th>SOLUSDT</th>\n",
       "    </tr>\n",
       "    <tr>\n",
       "      <th>Open Time</th>\n",
       "      <th></th>\n",
       "      <th></th>\n",
       "      <th></th>\n",
       "      <th></th>\n",
       "    </tr>\n",
       "  </thead>\n",
       "  <tbody>\n",
       "    <tr>\n",
       "      <th rowspan=\"3\" valign=\"top\">2024-07-21</th>\n",
       "      <th>BTCUSDT</th>\n",
       "      <td>0.000042</td>\n",
       "      <td>0.000034</td>\n",
       "      <td>-4.757489e-06</td>\n",
       "    </tr>\n",
       "    <tr>\n",
       "      <th>ETHUSDT</th>\n",
       "      <td>0.000034</td>\n",
       "      <td>0.000041</td>\n",
       "      <td>-5.822874e-06</td>\n",
       "    </tr>\n",
       "    <tr>\n",
       "      <th>SOLUSDT</th>\n",
       "      <td>-0.000005</td>\n",
       "      <td>-0.000006</td>\n",
       "      <td>8.326280e-07</td>\n",
       "    </tr>\n",
       "    <tr>\n",
       "      <th rowspan=\"2\" valign=\"top\">2024-07-22</th>\n",
       "      <th>BTCUSDT</th>\n",
       "      <td>0.000112</td>\n",
       "      <td>0.000125</td>\n",
       "      <td>1.413478e-04</td>\n",
       "    </tr>\n",
       "    <tr>\n",
       "      <th>ETHUSDT</th>\n",
       "      <td>0.000125</td>\n",
       "      <td>0.000151</td>\n",
       "      <td>1.944902e-04</td>\n",
       "    </tr>\n",
       "  </tbody>\n",
       "</table>\n",
       "</div>"
      ],
      "text/plain": [
       "                     BTCUSDT   ETHUSDT       SOLUSDT\n",
       "Open Time                                           \n",
       "2024-07-21 BTCUSDT  0.000042  0.000034 -4.757489e-06\n",
       "           ETHUSDT  0.000034  0.000041 -5.822874e-06\n",
       "           SOLUSDT -0.000005 -0.000006  8.326280e-07\n",
       "2024-07-22 BTCUSDT  0.000112  0.000125  1.413478e-04\n",
       "           ETHUSDT  0.000125  0.000151  1.944902e-04"
      ]
     },
     "execution_count": 16,
     "metadata": {},
     "output_type": "execute_result"
    }
   ],
   "source": [
    "# rolling covariance matrix\n",
    "rolling_cov = full_return_df.rolling(window=rolling_window).cov().dropna()\n",
    "rolling_cov.head()"
   ]
  },
  {
   "cell_type": "code",
   "execution_count": 17,
   "id": "044bcfcd-ea75-4d26-a16c-eef63a1552a0",
   "metadata": {},
   "outputs": [],
   "source": [
    "dates = list(set(rolling_cov.index.get_level_values(0)))\n",
    "dates.sort()\n",
    "weights_df = pd.DataFrame(index=pd.Index(dates).sort_values(), columns = full_return_df.columns)\n",
    "weights_df = weights_df.drop(benchmark_token, axis=1)\n",
    "betas_df = pd.DataFrame(index=pd.Index(dates).sort_values(), columns = full_return_df.columns)\n",
    "betas_without_benchmark = betas_df.drop(benchmark_token, axis=1)\n",
    "\n",
    "for i, dt in enumerate(dates):\n",
    "    full_cov = rolling_cov.loc[dt]\n",
    "    final_cov = full_cov.drop(benchmark_token).drop(benchmark_token, axis=1)\n",
    "    final_beta = full_cov[benchmark_token].drop(benchmark_token) / full_cov.loc[benchmark_token, benchmark_token]\n",
    "\n",
    "    weights_df.loc[dt, :] = weights\n",
    "    betas_without_benchmark.loc[dt, :] = final_beta"
   ]
  },
  {
   "cell_type": "code",
   "execution_count": 18,
   "id": "cf8c0dcc-e21a-4c19-a7e1-760394d12e49",
   "metadata": {},
   "outputs": [
    {
     "name": "stdout",
     "output_type": "stream",
     "text": [
      "\n",
      "\n",
      "-Data Check-\n",
      "Rolling Betas:\n",
      "             ETHUSDT   SOLUSDT\n",
      "2024-07-21  0.799259 -0.112133\n",
      "2024-07-22  1.110996    1.2603\n",
      "2024-07-23  0.332172  2.711316\n",
      "2024-07-24  0.009958  1.671591\n",
      "2024-07-25   -2.2354  0.934859\n",
      "             ETHUSDT   SOLUSDT\n",
      "2024-08-02  1.421915  1.192487\n",
      "2024-08-03  1.228422    1.4426\n",
      "2024-08-04  0.597964  2.023384\n",
      "2024-08-05  1.337724 -0.363557\n",
      "2024-08-06  1.405987  1.024865\n",
      "\n",
      "\n"
     ]
    }
   ],
   "source": [
    "print(\"\\n\")\n",
    "\n",
    "print(\"-Data Check-\")\n",
    "print(\"Rolling Betas:\")\n",
    "print(betas_without_benchmark.head())\n",
    "print(betas_without_benchmark.tail())\n",
    "# print(betas_without_benchmark)\n",
    "\n",
    "print(\"\\n\")"
   ]
  },
  {
   "cell_type": "code",
   "execution_count": 19,
   "id": "c4eef7ec-86d5-4294-a068-2df09c54acb3",
   "metadata": {},
   "outputs": [
    {
     "name": "stdout",
     "output_type": "stream",
     "text": [
      "\n",
      "\n",
      "-Data Check-\n",
      "Porfolio 1 Rolling Weights:\n",
      "           ETHUSDT SOLUSDT\n",
      "2024-07-21    -0.3     0.7\n",
      "2024-07-22    -0.3     0.7\n",
      "2024-07-23    -0.3     0.7\n",
      "2024-07-24    -0.3     0.7\n",
      "2024-07-25    -0.3     0.7\n",
      "           ETHUSDT SOLUSDT\n",
      "2024-08-02    -0.3     0.7\n",
      "2024-08-03    -0.3     0.7\n",
      "2024-08-04    -0.3     0.7\n",
      "2024-08-05    -0.3     0.7\n",
      "2024-08-06    -0.3     0.7\n",
      "\n",
      "\n"
     ]
    }
   ],
   "source": [
    "print(\"\\n\")\n",
    "\n",
    "print(\"-Data Check-\")\n",
    "print(\"Porfolio 1 Rolling Weights:\")\n",
    "print(weights_df.head())\n",
    "print(weights_df.tail())\n",
    "# print(weights_df)\n",
    "\n",
    "print(\"\\n\")"
   ]
  },
  {
   "cell_type": "code",
   "execution_count": 20,
   "id": "89e42a07-d659-488b-ba61-bd733da05cea",
   "metadata": {},
   "outputs": [
    {
     "name": "stdout",
     "output_type": "stream",
     "text": [
      "\n",
      "\n",
      "-Data Check-\n",
      "Porfolio Beta:\n",
      "2024-07-22    0.548911\n",
      "2024-07-23     1.79827\n",
      "2024-07-24    1.167126\n",
      "2024-07-25    1.325021\n",
      "2024-07-26    0.270532\n",
      "dtype: object\n",
      "2024-08-02    0.408166\n",
      "2024-08-03    0.641293\n",
      "2024-08-04     1.23698\n",
      "2024-08-05   -0.655807\n",
      "2024-08-06    0.295609\n",
      "dtype: object\n",
      "\n",
      "\n"
     ]
    }
   ],
   "source": [
    "print(\"\\n\")\n",
    "\n",
    "print(\"-Data Check-\")\n",
    "print(\"Porfolio Beta:\")\n",
    "portfolio_beta = (weights_df.shift(1) * betas_without_benchmark).dropna().sum(axis=1)\n",
    "print(portfolio_beta.head())\n",
    "print(portfolio_beta.tail())\n",
    "# print(portfolio_beta)\n",
    "\n",
    "print(\"\\n\")"
   ]
  },
  {
   "cell_type": "code",
   "execution_count": 21,
   "id": "99377ff6-979c-4cca-9c25-b2bc6f975005",
   "metadata": {},
   "outputs": [
    {
     "data": {
      "text/plain": [
       "Text(0.5, 1.0, 'Mkt Neutral Portfolio Rolling Beta to Market')"
      ]
     },
     "execution_count": 21,
     "metadata": {},
     "output_type": "execute_result"
    },
    {
     "data": {
      "image/png": "[encoded data removed]",
      "text/plain": [
       "<Figure size 1800x800 with 1 Axes>"
      ]
     },
     "metadata": {},
     "output_type": "display_data"
    }
   ],
   "source": [
    "portfolio_beta.plot(figsize=(18, 8))\n",
    "plt.axhline(portfolio_beta.mean(), color=\"red\")\n",
    "plt.title(\"Mkt Neutral Portfolio Rolling Beta to Market\")"
   ]
  },
  {
   "cell_type": "code",
   "execution_count": 22,
   "id": "cc627b90-8188-4167-82f9-1679022a1b7a",
   "metadata": {},
   "outputs": [
    {
     "data": {
      "text/plain": [
       "Text(0.5, 1.0, 'Backtest of Market Neutral Portfolio Return')"
      ]
     },
     "execution_count": 22,
     "metadata": {},
     "output_type": "execute_result"
    },
    {
     "data": {
      "image/png": "[encoded data removed]",
      "text/plain": [
       "<Figure size 1800x800 with 1 Axes>"
      ]
     },
     "metadata": {},
     "output_type": "display_data"
    }
   ],
   "source": [
    "full_return_df_copy = full_return_df.copy()\n",
    "\n",
    "weights_df = weights_df.T.sort_index().T\n",
    "full_return_df = full_return_df.T.sort_index().T.drop(benchmark_token, axis=1)\n",
    "\n",
    "portfolio_ret = (weights_df.shift(1) * full_return_df).dropna().sum(axis=1)\n",
    "(1 + portfolio_ret).cumprod().plot(figsize=(18, 8), label=\"Mkt Neutral Portfolio\")\n",
    "(1 + full_return_df_copy.loc[portfolio_ret.index][benchmark_token]).cumprod().plot()\n",
    "plt.grid()\n",
    "plt.legend()\n",
    "plt.title(\"Backtest of Market Neutral Portfolio Return\")"
   ]
  },
  {
   "cell_type": "code",
   "execution_count": null,
   "id": "50fe200e-18d7-4529-a7f6-363745a00395",
   "metadata": {},
   "outputs": [],
   "source": []
  }
 ],
 "metadata": {
  "kernelspec": {
   "display_name": "venv",
   "language": "python",
   "name": "python3"
  },
  "language_info": {
   "codemirror_mode": {
    "name": "ipython",
    "version": 3
   },
   "file_extension": ".py",
   "mimetype": "text/x-python",
   "name": "python",
   "nbconvert_exporter": "python",
   "pygments_lexer": "ipython3",
   "version": "3.9.6"
  },
  "papermill": {
   "default_parameters": {},
   "duration": 34.659839,
   "end_time": "2023-11-01T02:04:21.309361",
   "environment_variables": {},
   "exception": null,
   "input_path": "__notebook__.ipynb",
   "output_path": "__notebook__.ipynb",
   "parameters": {},
   "start_time": "2023-11-01T02:03:46.649522",
   "version": "2.4.0"
  }
 },
 "nbformat": 4,
 "nbformat_minor": 5
}
