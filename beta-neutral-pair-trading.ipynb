{
 "cells": [
  {
   "cell_type": "markdown",
   "id": "0e43aa20",
   "metadata": {},
   "source": [
    "# Pairs-Trading (Beta Neutral) Strategy Analysis\n",
    "\n",
    "The beta neutral trading strategy is a market-neutral approach designed to eliminate systematic market risk by constructing a portfolio that has a net beta of zero. This strategy aims to generate alpha (excess returns above the market) by taking both long and short positions in securities such that the overall portfolio is insulated from broad market movements.\n",
    "\n",
    "Key Concepts:\n",
    "- **Beta**: A measure of a security's volatility in relation to the overall market. A beta of 1 indicates that the security moves with the market, a beta greater than 1 indicates higher volatility than the market, and a beta less than 1 indicates lower volatility.\n",
    "- **Market Neutral**: A strategy that seeks to minimize exposure to market risk, focusing on generating returns from the individual performance of securities rather than market movements.\n",
    "\n",
    "Here's how it works:\n",
    "\n",
    "- **Identifying a Pair / Basket of Tokens**: Identify a set of tokens with varying betas.\n",
    "- **Calculating Beta**: Use historical price data to calculate the beta of each token relative to a benchmark token (e.g., BTC and ETH). This can be done using regression analysis where the token's returns are regressed against the benchmark's returns.\n",
    "- **Constructing the Portfolio**: \n",
    "    - **Long Positions**: Select tokens with positive alpha (expected to outperform their beta-implied returns) and go long on these.\n",
    "    - **Short Positions**: Select tokens with negative alpha (expected to underperform their beta-implied returns) and short these.\n",
    "    - Ensure the weighted average beta of the long positions is equal to the weighted average beta of the short positions, resulting in a net beta of zero.\n",
    "- **Position Sizing**: Calculate the dollar amount for each position to ensure that the portfolio remains beta neutral. This involves balancing the dollar value of long and short positions based on their respective betas.\n",
    "- **Monitoring and Rebalancing**: Regularly monitor the portfolio to ensure it remains beta neutral. Adjust positions as necessary to maintain the desired beta neutrality, especially if there are significant changes in the market or individual tokens.\n",
    "\n",
    "In this notebook, the pair trading negative / low correlation strategy is demonstrated using cryptocurrency price data sourced from the Binance, OKX, and Bybit APIs."
   ]
  },
  {
   "cell_type": "markdown",
   "id": "eab73ff6-fa1f-46cc-900b-8268a0c14305",
   "metadata": {},
   "source": [
    "## Prepare your Environment\n",
    "\n",
    "Ensure that the 'venv' kernel is selected for this notebook. If not, click on 'Kernel' at the top bar, select 'Change Kernel...' and select 'venv' as the kernel. For convenience, ensure that 'Always start the preferred kernel' is ticked. Click 'Select' to confirm the setting.\n",
    "\n",
    "Install the environment's dependencies using the command below. After installation, restart the kernel to use the updated packages. To restart, click on 'Kernel' at the top bar and select 'Restart Kernel' and click on 'Restart'. Please skip this step if you have already done it."
   ]
  },
  {
   "cell_type": "code",
   "execution_count": 2,
   "id": "d8d92236-023d-4e09-94c8-a65fcecd9c81",
   "metadata": {},
   "outputs": [
    {
     "name": "stdout",
     "output_type": "stream",
     "text": [
      "Requirement already satisfied: requests in /Users/gordon.oh/Desktop/quant_research/venv/lib/python3.9/site-packages (from -r requirements.txt (line 1)) (2.32.3)\n",
      "Requirement already satisfied: numpy in /Users/gordon.oh/Desktop/quant_research/venv/lib/python3.9/site-packages (from -r requirements.txt (line 2)) (2.0.0)\n",
      "Requirement already satisfied: pandas in /Users/gordon.oh/Desktop/quant_research/venv/lib/python3.9/site-packages (from -r requirements.txt (line 3)) (2.2.2)\n",
      "Requirement already satisfied: datetime in /Users/gordon.oh/Desktop/quant_research/venv/lib/python3.9/site-packages (from -r requirements.txt (line 4)) (5.5)\n",
      "Requirement already satisfied: matplotlib in /Users/gordon.oh/Desktop/quant_research/venv/lib/python3.9/site-packages (from -r requirements.txt (line 5)) (3.9.1)\n",
      "Requirement already satisfied: statsmodels in /Users/gordon.oh/Desktop/quant_research/venv/lib/python3.9/site-packages (from -r requirements.txt (line 6)) (0.14.2)\n",
      "Requirement already satisfied: jupyterlab in /Users/gordon.oh/Desktop/quant_research/venv/lib/python3.9/site-packages (from -r requirements.txt (line 7)) (4.2.3)\n",
      "Requirement already satisfied: ipykernel in /Users/gordon.oh/Desktop/quant_research/venv/lib/python3.9/site-packages (from -r requirements.txt (line 8)) (6.29.5)\n",
      "Requirement already satisfied: urllib3==1.26.15 in /Users/gordon.oh/Desktop/quant_research/venv/lib/python3.9/site-packages (from -r requirements.txt (line 9)) (1.26.15)\n",
      "Collecting cvxpy\n",
      "  Downloading cvxpy-1.5.2-cp39-cp39-macosx_10_9_universal2.whl (1.4 MB)\n",
      "\u001b[K     |████████████████████████████████| 1.4 MB 3.2 MB/s eta 0:00:01\n",
      "\u001b[?25hRequirement already satisfied: certifi>=2017.4.17 in /Users/gordon.oh/Desktop/quant_research/venv/lib/python3.9/site-packages (from requests->-r requirements.txt (line 1)) (2024.7.4)\n",
      "Requirement already satisfied: idna<4,>=2.5 in /Users/gordon.oh/Desktop/quant_research/venv/lib/python3.9/site-packages (from requests->-r requirements.txt (line 1)) (3.7)\n",
      "Requirement already satisfied: charset-normalizer<4,>=2 in /Users/gordon.oh/Desktop/quant_research/venv/lib/python3.9/site-packages (from requests->-r requirements.txt (line 1)) (3.3.2)\n",
      "Requirement already satisfied: python-dateutil>=2.8.2 in /Users/gordon.oh/Desktop/quant_research/venv/lib/python3.9/site-packages (from pandas->-r requirements.txt (line 3)) (2.9.0.post0)\n",
      "Requirement already satisfied: tzdata>=2022.7 in /Users/gordon.oh/Desktop/quant_research/venv/lib/python3.9/site-packages (from pandas->-r requirements.txt (line 3)) (2024.1)\n",
      "Requirement already satisfied: pytz>=2020.1 in /Users/gordon.oh/Desktop/quant_research/venv/lib/python3.9/site-packages (from pandas->-r requirements.txt (line 3)) (2024.1)\n",
      "Requirement already satisfied: zope.interface in /Users/gordon.oh/Desktop/quant_research/venv/lib/python3.9/site-packages (from datetime->-r requirements.txt (line 4)) (6.4.post2)\n",
      "Requirement already satisfied: pillow>=8 in /Users/gordon.oh/Desktop/quant_research/venv/lib/python3.9/site-packages (from matplotlib->-r requirements.txt (line 5)) (10.4.0)\n",
      "Requirement already satisfied: kiwisolver>=1.3.1 in /Users/gordon.oh/Desktop/quant_research/venv/lib/python3.9/site-packages (from matplotlib->-r requirements.txt (line 5)) (1.4.5)\n",
      "Requirement already satisfied: contourpy>=1.0.1 in /Users/gordon.oh/Desktop/quant_research/venv/lib/python3.9/site-packages (from matplotlib->-r requirements.txt (line 5)) (1.2.1)\n",
      "Requirement already satisfied: fonttools>=4.22.0 in /Users/gordon.oh/Desktop/quant_research/venv/lib/python3.9/site-packages (from matplotlib->-r requirements.txt (line 5)) (4.53.1)\n",
      "Requirement already satisfied: pyparsing>=2.3.1 in /Users/gordon.oh/Desktop/quant_research/venv/lib/python3.9/site-packages (from matplotlib->-r requirements.txt (line 5)) (3.1.2)\n",
      "Requirement already satisfied: importlib-resources>=3.2.0 in /Users/gordon.oh/Desktop/quant_research/venv/lib/python3.9/site-packages (from matplotlib->-r requirements.txt (line 5)) (6.4.0)\n",
      "Requirement already satisfied: packaging>=20.0 in /Users/gordon.oh/Desktop/quant_research/venv/lib/python3.9/site-packages (from matplotlib->-r requirements.txt (line 5)) (24.1)\n",
      "Requirement already satisfied: cycler>=0.10 in /Users/gordon.oh/Desktop/quant_research/venv/lib/python3.9/site-packages (from matplotlib->-r requirements.txt (line 5)) (0.12.1)\n",
      "Requirement already satisfied: scipy!=1.9.2,>=1.8 in /Users/gordon.oh/Desktop/quant_research/venv/lib/python3.9/site-packages (from statsmodels->-r requirements.txt (line 6)) (1.13.1)\n",
      "Requirement already satisfied: patsy>=0.5.6 in /Users/gordon.oh/Desktop/quant_research/venv/lib/python3.9/site-packages (from statsmodels->-r requirements.txt (line 6)) (0.5.6)\n",
      "Requirement already satisfied: jupyter-server<3,>=2.4.0 in /Users/gordon.oh/Desktop/quant_research/venv/lib/python3.9/site-packages (from jupyterlab->-r requirements.txt (line 7)) (2.14.1)\n",
      "Requirement already satisfied: async-lru>=1.0.0 in /Users/gordon.oh/Desktop/quant_research/venv/lib/python3.9/site-packages (from jupyterlab->-r requirements.txt (line 7)) (2.0.4)\n",
      "Requirement already satisfied: jinja2>=3.0.3 in /Users/gordon.oh/Desktop/quant_research/venv/lib/python3.9/site-packages (from jupyterlab->-r requirements.txt (line 7)) (3.1.4)\n",
      "Requirement already satisfied: jupyter-core in /Users/gordon.oh/Desktop/quant_research/venv/lib/python3.9/site-packages (from jupyterlab->-r requirements.txt (line 7)) (5.7.2)\n",
      "Requirement already satisfied: tomli>=1.2.2 in /Users/gordon.oh/Desktop/quant_research/venv/lib/python3.9/site-packages (from jupyterlab->-r requirements.txt (line 7)) (2.0.1)\n",
      "Requirement already satisfied: notebook-shim>=0.2 in /Users/gordon.oh/Desktop/quant_research/venv/lib/python3.9/site-packages (from jupyterlab->-r requirements.txt (line 7)) (0.2.4)\n",
      "Requirement already satisfied: jupyterlab-server<3,>=2.27.1 in /Users/gordon.oh/Desktop/quant_research/venv/lib/python3.9/site-packages (from jupyterlab->-r requirements.txt (line 7)) (2.27.2)\n",
      "Requirement already satisfied: tornado>=6.2.0 in /Users/gordon.oh/Desktop/quant_research/venv/lib/python3.9/site-packages (from jupyterlab->-r requirements.txt (line 7)) (6.4.1)\n",
      "Requirement already satisfied: setuptools>=40.1.0 in /Users/gordon.oh/Desktop/quant_research/venv/lib/python3.9/site-packages (from jupyterlab->-r requirements.txt (line 7)) (70.2.0)\n",
      "Requirement already satisfied: importlib-metadata>=4.8.3 in /Users/gordon.oh/Desktop/quant_research/venv/lib/python3.9/site-packages (from jupyterlab->-r requirements.txt (line 7)) (8.0.0)\n",
      "Requirement already satisfied: jupyter-lsp>=2.0.0 in /Users/gordon.oh/Desktop/quant_research/venv/lib/python3.9/site-packages (from jupyterlab->-r requirements.txt (line 7)) (2.2.5)\n",
      "Requirement already satisfied: httpx>=0.25.0 in /Users/gordon.oh/Desktop/quant_research/venv/lib/python3.9/site-packages (from jupyterlab->-r requirements.txt (line 7)) (0.27.0)\n",
      "Requirement already satisfied: traitlets in /Users/gordon.oh/Desktop/quant_research/venv/lib/python3.9/site-packages (from jupyterlab->-r requirements.txt (line 7)) (5.14.3)\n",
      "Requirement already satisfied: matplotlib-inline>=0.1 in /Users/gordon.oh/Desktop/quant_research/venv/lib/python3.9/site-packages (from ipykernel->-r requirements.txt (line 8)) (0.1.7)\n",
      "Requirement already satisfied: psutil in /Users/gordon.oh/Desktop/quant_research/venv/lib/python3.9/site-packages (from ipykernel->-r requirements.txt (line 8)) (6.0.0)\n",
      "Requirement already satisfied: ipython>=7.23.1 in /Users/gordon.oh/Desktop/quant_research/venv/lib/python3.9/site-packages (from ipykernel->-r requirements.txt (line 8)) (8.18.1)\n",
      "Requirement already satisfied: pyzmq>=24 in /Users/gordon.oh/Desktop/quant_research/venv/lib/python3.9/site-packages (from ipykernel->-r requirements.txt (line 8)) (26.0.3)\n",
      "Requirement already satisfied: jupyter-client>=6.1.12 in /Users/gordon.oh/Desktop/quant_research/venv/lib/python3.9/site-packages (from ipykernel->-r requirements.txt (line 8)) (8.6.2)\n",
      "Requirement already satisfied: debugpy>=1.6.5 in /Users/gordon.oh/Desktop/quant_research/venv/lib/python3.9/site-packages (from ipykernel->-r requirements.txt (line 8)) (1.8.2)\n",
      "Requirement already satisfied: appnope in /Users/gordon.oh/Desktop/quant_research/venv/lib/python3.9/site-packages (from ipykernel->-r requirements.txt (line 8)) (0.1.4)\n",
      "Requirement already satisfied: nest-asyncio in /Users/gordon.oh/Desktop/quant_research/venv/lib/python3.9/site-packages (from ipykernel->-r requirements.txt (line 8)) (1.6.0)\n",
      "Requirement already satisfied: comm>=0.1.1 in /Users/gordon.oh/Desktop/quant_research/venv/lib/python3.9/site-packages (from ipykernel->-r requirements.txt (line 8)) (0.2.2)\n",
      "Collecting scs>=3.2.4.post1\n",
      "  Downloading scs-3.2.6-cp39-cp39-macosx_11_0_arm64.whl (93 kB)\n",
      "\u001b[K     |████████████████████████████████| 93 kB 10.1 MB/s eta 0:00:01\n",
      "\u001b[?25hCollecting ecos>=2\n",
      "  Downloading ecos-2.0.14.tar.gz (142 kB)\n",
      "\u001b[K     |████████████████████████████████| 142 kB 27.5 MB/s eta 0:00:01\n",
      "\u001b[?25h  Installing build dependencies ... \u001b[?25ldone\n",
      "\u001b[?25h  Getting requirements to build wheel ... \u001b[?25ldone\n",
      "\u001b[?25h    Preparing wheel metadata ... \u001b[?25ldone\n",
      "\u001b[?25hCollecting clarabel>=0.5.0\n",
      "  Downloading clarabel-0.9.0-cp37-abi3-macosx_10_12_x86_64.macosx_11_0_arm64.macosx_10_12_universal2.whl (1.7 MB)\n",
      "\u001b[K     |████████████████████████████████| 1.7 MB 14.0 MB/s eta 0:00:01\n",
      "\u001b[?25hCollecting osqp>=0.6.2\n",
      "  Downloading osqp-0.6.7.post0-cp39-cp39-macosx_11_0_arm64.whl (237 kB)\n",
      "\u001b[K     |████████████████████████████████| 237 kB 32.8 MB/s eta 0:00:01\n",
      "\u001b[?25hRequirement already satisfied: typing-extensions>=4.0.0 in /Users/gordon.oh/Desktop/quant_research/venv/lib/python3.9/site-packages (from async-lru>=1.0.0->jupyterlab->-r requirements.txt (line 7)) (4.12.2)\n",
      "Requirement already satisfied: anyio in /Users/gordon.oh/Desktop/quant_research/venv/lib/python3.9/site-packages (from httpx>=0.25.0->jupyterlab->-r requirements.txt (line 7)) (4.4.0)\n",
      "Requirement already satisfied: sniffio in /Users/gordon.oh/Desktop/quant_research/venv/lib/python3.9/site-packages (from httpx>=0.25.0->jupyterlab->-r requirements.txt (line 7)) (1.3.1)\n",
      "Requirement already satisfied: httpcore==1.* in /Users/gordon.oh/Desktop/quant_research/venv/lib/python3.9/site-packages (from httpx>=0.25.0->jupyterlab->-r requirements.txt (line 7)) (1.0.5)\n",
      "Requirement already satisfied: h11<0.15,>=0.13 in /Users/gordon.oh/Desktop/quant_research/venv/lib/python3.9/site-packages (from httpcore==1.*->httpx>=0.25.0->jupyterlab->-r requirements.txt (line 7)) (0.14.0)\n",
      "Requirement already satisfied: zipp>=0.5 in /Users/gordon.oh/Desktop/quant_research/venv/lib/python3.9/site-packages (from importlib-metadata>=4.8.3->jupyterlab->-r requirements.txt (line 7)) (3.19.2)\n",
      "Requirement already satisfied: prompt-toolkit<3.1.0,>=3.0.41 in /Users/gordon.oh/Desktop/quant_research/venv/lib/python3.9/site-packages (from ipython>=7.23.1->ipykernel->-r requirements.txt (line 8)) (3.0.47)\n",
      "Requirement already satisfied: jedi>=0.16 in /Users/gordon.oh/Desktop/quant_research/venv/lib/python3.9/site-packages (from ipython>=7.23.1->ipykernel->-r requirements.txt (line 8)) (0.19.1)\n",
      "Requirement already satisfied: pexpect>4.3 in /Users/gordon.oh/Desktop/quant_research/venv/lib/python3.9/site-packages (from ipython>=7.23.1->ipykernel->-r requirements.txt (line 8)) (4.9.0)\n",
      "Requirement already satisfied: exceptiongroup in /Users/gordon.oh/Desktop/quant_research/venv/lib/python3.9/site-packages (from ipython>=7.23.1->ipykernel->-r requirements.txt (line 8)) (1.2.1)\n",
      "Requirement already satisfied: pygments>=2.4.0 in /Users/gordon.oh/Desktop/quant_research/venv/lib/python3.9/site-packages (from ipython>=7.23.1->ipykernel->-r requirements.txt (line 8)) (2.18.0)\n",
      "Requirement already satisfied: decorator in /Users/gordon.oh/Desktop/quant_research/venv/lib/python3.9/site-packages (from ipython>=7.23.1->ipykernel->-r requirements.txt (line 8)) (5.1.1)\n",
      "Requirement already satisfied: stack-data in /Users/gordon.oh/Desktop/quant_research/venv/lib/python3.9/site-packages (from ipython>=7.23.1->ipykernel->-r requirements.txt (line 8)) (0.6.3)\n",
      "Requirement already satisfied: parso<0.9.0,>=0.8.3 in /Users/gordon.oh/Desktop/quant_research/venv/lib/python3.9/site-packages (from jedi>=0.16->ipython>=7.23.1->ipykernel->-r requirements.txt (line 8)) (0.8.4)\n",
      "Requirement already satisfied: MarkupSafe>=2.0 in /Users/gordon.oh/Desktop/quant_research/venv/lib/python3.9/site-packages (from jinja2>=3.0.3->jupyterlab->-r requirements.txt (line 7)) (2.1.5)\n",
      "Requirement already satisfied: platformdirs>=2.5 in /Users/gordon.oh/Desktop/quant_research/venv/lib/python3.9/site-packages (from jupyter-core->jupyterlab->-r requirements.txt (line 7)) (4.2.2)\n",
      "Requirement already satisfied: send2trash>=1.8.2 in /Users/gordon.oh/Desktop/quant_research/venv/lib/python3.9/site-packages (from jupyter-server<3,>=2.4.0->jupyterlab->-r requirements.txt (line 7)) (1.8.3)\n",
      "Requirement already satisfied: argon2-cffi>=21.1 in /Users/gordon.oh/Desktop/quant_research/venv/lib/python3.9/site-packages (from jupyter-server<3,>=2.4.0->jupyterlab->-r requirements.txt (line 7)) (23.1.0)\n",
      "Requirement already satisfied: nbformat>=5.3.0 in /Users/gordon.oh/Desktop/quant_research/venv/lib/python3.9/site-packages (from jupyter-server<3,>=2.4.0->jupyterlab->-r requirements.txt (line 7)) (5.10.4)\n",
      "Requirement already satisfied: jupyter-events>=0.9.0 in /Users/gordon.oh/Desktop/quant_research/venv/lib/python3.9/site-packages (from jupyter-server<3,>=2.4.0->jupyterlab->-r requirements.txt (line 7)) (0.10.0)\n",
      "Requirement already satisfied: terminado>=0.8.3 in /Users/gordon.oh/Desktop/quant_research/venv/lib/python3.9/site-packages (from jupyter-server<3,>=2.4.0->jupyterlab->-r requirements.txt (line 7)) (0.18.1)\n",
      "Requirement already satisfied: nbconvert>=6.4.4 in /Users/gordon.oh/Desktop/quant_research/venv/lib/python3.9/site-packages (from jupyter-server<3,>=2.4.0->jupyterlab->-r requirements.txt (line 7)) (7.16.4)\n",
      "Requirement already satisfied: prometheus-client>=0.9 in /Users/gordon.oh/Desktop/quant_research/venv/lib/python3.9/site-packages (from jupyter-server<3,>=2.4.0->jupyterlab->-r requirements.txt (line 7)) (0.20.0)\n",
      "Requirement already satisfied: websocket-client>=1.7 in /Users/gordon.oh/Desktop/quant_research/venv/lib/python3.9/site-packages (from jupyter-server<3,>=2.4.0->jupyterlab->-r requirements.txt (line 7)) (1.8.0)\n",
      "Requirement already satisfied: overrides>=5.0 in /Users/gordon.oh/Desktop/quant_research/venv/lib/python3.9/site-packages (from jupyter-server<3,>=2.4.0->jupyterlab->-r requirements.txt (line 7)) (7.7.0)\n",
      "Requirement already satisfied: jupyter-server-terminals>=0.4.4 in /Users/gordon.oh/Desktop/quant_research/venv/lib/python3.9/site-packages (from jupyter-server<3,>=2.4.0->jupyterlab->-r requirements.txt (line 7)) (0.5.3)\n",
      "Requirement already satisfied: argon2-cffi-bindings in /Users/gordon.oh/Desktop/quant_research/venv/lib/python3.9/site-packages (from argon2-cffi>=21.1->jupyter-server<3,>=2.4.0->jupyterlab->-r requirements.txt (line 7)) (21.2.0)\n",
      "Requirement already satisfied: rfc3339-validator in /Users/gordon.oh/Desktop/quant_research/venv/lib/python3.9/site-packages (from jupyter-events>=0.9.0->jupyter-server<3,>=2.4.0->jupyterlab->-r requirements.txt (line 7)) (0.1.4)\n",
      "Requirement already satisfied: python-json-logger>=2.0.4 in /Users/gordon.oh/Desktop/quant_research/venv/lib/python3.9/site-packages (from jupyter-events>=0.9.0->jupyter-server<3,>=2.4.0->jupyterlab->-r requirements.txt (line 7)) (2.0.7)\n",
      "Requirement already satisfied: pyyaml>=5.3 in /Users/gordon.oh/Desktop/quant_research/venv/lib/python3.9/site-packages (from jupyter-events>=0.9.0->jupyter-server<3,>=2.4.0->jupyterlab->-r requirements.txt (line 7)) (6.0.1)\n",
      "Requirement already satisfied: rfc3986-validator>=0.1.1 in /Users/gordon.oh/Desktop/quant_research/venv/lib/python3.9/site-packages (from jupyter-events>=0.9.0->jupyter-server<3,>=2.4.0->jupyterlab->-r requirements.txt (line 7)) (0.1.1)\n",
      "Requirement already satisfied: jsonschema[format-nongpl]>=4.18.0 in /Users/gordon.oh/Desktop/quant_research/venv/lib/python3.9/site-packages (from jupyter-events>=0.9.0->jupyter-server<3,>=2.4.0->jupyterlab->-r requirements.txt (line 7)) (4.22.0)\n",
      "Requirement already satisfied: referencing in /Users/gordon.oh/Desktop/quant_research/venv/lib/python3.9/site-packages (from jupyter-events>=0.9.0->jupyter-server<3,>=2.4.0->jupyterlab->-r requirements.txt (line 7)) (0.35.1)\n",
      "Requirement already satisfied: attrs>=22.2.0 in /Users/gordon.oh/Desktop/quant_research/venv/lib/python3.9/site-packages (from jsonschema[format-nongpl]>=4.18.0->jupyter-events>=0.9.0->jupyter-server<3,>=2.4.0->jupyterlab->-r requirements.txt (line 7)) (23.2.0)\n",
      "Requirement already satisfied: rpds-py>=0.7.1 in /Users/gordon.oh/Desktop/quant_research/venv/lib/python3.9/site-packages (from jsonschema[format-nongpl]>=4.18.0->jupyter-events>=0.9.0->jupyter-server<3,>=2.4.0->jupyterlab->-r requirements.txt (line 7)) (0.18.1)\n",
      "Requirement already satisfied: jsonschema-specifications>=2023.03.6 in /Users/gordon.oh/Desktop/quant_research/venv/lib/python3.9/site-packages (from jsonschema[format-nongpl]>=4.18.0->jupyter-events>=0.9.0->jupyter-server<3,>=2.4.0->jupyterlab->-r requirements.txt (line 7)) (2023.12.1)\n",
      "Requirement already satisfied: uri-template in /Users/gordon.oh/Desktop/quant_research/venv/lib/python3.9/site-packages (from jsonschema[format-nongpl]>=4.18.0->jupyter-events>=0.9.0->jupyter-server<3,>=2.4.0->jupyterlab->-r requirements.txt (line 7)) (1.3.0)\n",
      "Requirement already satisfied: webcolors>=1.11 in /Users/gordon.oh/Desktop/quant_research/venv/lib/python3.9/site-packages (from jsonschema[format-nongpl]>=4.18.0->jupyter-events>=0.9.0->jupyter-server<3,>=2.4.0->jupyterlab->-r requirements.txt (line 7)) (24.6.0)\n",
      "Requirement already satisfied: jsonpointer>1.13 in /Users/gordon.oh/Desktop/quant_research/venv/lib/python3.9/site-packages (from jsonschema[format-nongpl]>=4.18.0->jupyter-events>=0.9.0->jupyter-server<3,>=2.4.0->jupyterlab->-r requirements.txt (line 7)) (3.0.0)\n",
      "Requirement already satisfied: fqdn in /Users/gordon.oh/Desktop/quant_research/venv/lib/python3.9/site-packages (from jsonschema[format-nongpl]>=4.18.0->jupyter-events>=0.9.0->jupyter-server<3,>=2.4.0->jupyterlab->-r requirements.txt (line 7)) (1.5.1)\n",
      "Requirement already satisfied: isoduration in /Users/gordon.oh/Desktop/quant_research/venv/lib/python3.9/site-packages (from jsonschema[format-nongpl]>=4.18.0->jupyter-events>=0.9.0->jupyter-server<3,>=2.4.0->jupyterlab->-r requirements.txt (line 7)) (20.11.0)\n",
      "Requirement already satisfied: json5>=0.9.0 in /Users/gordon.oh/Desktop/quant_research/venv/lib/python3.9/site-packages (from jupyterlab-server<3,>=2.27.1->jupyterlab->-r requirements.txt (line 7)) (0.9.25)\n",
      "Requirement already satisfied: babel>=2.10 in /Users/gordon.oh/Desktop/quant_research/venv/lib/python3.9/site-packages (from jupyterlab-server<3,>=2.27.1->jupyterlab->-r requirements.txt (line 7)) (2.15.0)\n",
      "Requirement already satisfied: defusedxml in /Users/gordon.oh/Desktop/quant_research/venv/lib/python3.9/site-packages (from nbconvert>=6.4.4->jupyter-server<3,>=2.4.0->jupyterlab->-r requirements.txt (line 7)) (0.7.1)\n",
      "Requirement already satisfied: bleach!=5.0.0 in /Users/gordon.oh/Desktop/quant_research/venv/lib/python3.9/site-packages (from nbconvert>=6.4.4->jupyter-server<3,>=2.4.0->jupyterlab->-r requirements.txt (line 7)) (6.1.0)\n",
      "Requirement already satisfied: pandocfilters>=1.4.1 in /Users/gordon.oh/Desktop/quant_research/venv/lib/python3.9/site-packages (from nbconvert>=6.4.4->jupyter-server<3,>=2.4.0->jupyterlab->-r requirements.txt (line 7)) (1.5.1)\n",
      "Requirement already satisfied: tinycss2 in /Users/gordon.oh/Desktop/quant_research/venv/lib/python3.9/site-packages (from nbconvert>=6.4.4->jupyter-server<3,>=2.4.0->jupyterlab->-r requirements.txt (line 7)) (1.3.0)\n",
      "Requirement already satisfied: beautifulsoup4 in /Users/gordon.oh/Desktop/quant_research/venv/lib/python3.9/site-packages (from nbconvert>=6.4.4->jupyter-server<3,>=2.4.0->jupyterlab->-r requirements.txt (line 7)) (4.12.3)\n",
      "Requirement already satisfied: mistune<4,>=2.0.3 in /Users/gordon.oh/Desktop/quant_research/venv/lib/python3.9/site-packages (from nbconvert>=6.4.4->jupyter-server<3,>=2.4.0->jupyterlab->-r requirements.txt (line 7)) (3.0.2)\n",
      "Requirement already satisfied: jupyterlab-pygments in /Users/gordon.oh/Desktop/quant_research/venv/lib/python3.9/site-packages (from nbconvert>=6.4.4->jupyter-server<3,>=2.4.0->jupyterlab->-r requirements.txt (line 7)) (0.3.0)\n",
      "Requirement already satisfied: nbclient>=0.5.0 in /Users/gordon.oh/Desktop/quant_research/venv/lib/python3.9/site-packages (from nbconvert>=6.4.4->jupyter-server<3,>=2.4.0->jupyterlab->-r requirements.txt (line 7)) (0.10.0)\n",
      "Requirement already satisfied: six>=1.9.0 in /Users/gordon.oh/Desktop/quant_research/venv/lib/python3.9/site-packages (from bleach!=5.0.0->nbconvert>=6.4.4->jupyter-server<3,>=2.4.0->jupyterlab->-r requirements.txt (line 7)) (1.16.0)\n",
      "Requirement already satisfied: webencodings in /Users/gordon.oh/Desktop/quant_research/venv/lib/python3.9/site-packages (from bleach!=5.0.0->nbconvert>=6.4.4->jupyter-server<3,>=2.4.0->jupyterlab->-r requirements.txt (line 7)) (0.5.1)\n",
      "Requirement already satisfied: fastjsonschema>=2.15 in /Users/gordon.oh/Desktop/quant_research/venv/lib/python3.9/site-packages (from nbformat>=5.3.0->jupyter-server<3,>=2.4.0->jupyterlab->-r requirements.txt (line 7)) (2.20.0)\n",
      "Collecting qdldl\n",
      "  Downloading qdldl-0.1.7.post4-cp39-cp39-macosx_11_0_arm64.whl (98 kB)\n",
      "\u001b[K     |████████████████████████████████| 98 kB 20.3 MB/s eta 0:00:01\n",
      "\u001b[?25hRequirement already satisfied: ptyprocess>=0.5 in /Users/gordon.oh/Desktop/quant_research/venv/lib/python3.9/site-packages (from pexpect>4.3->ipython>=7.23.1->ipykernel->-r requirements.txt (line 8)) (0.7.0)\n",
      "Requirement already satisfied: wcwidth in /Users/gordon.oh/Desktop/quant_research/venv/lib/python3.9/site-packages (from prompt-toolkit<3.1.0,>=3.0.41->ipython>=7.23.1->ipykernel->-r requirements.txt (line 8)) (0.2.13)\n",
      "Requirement already satisfied: cffi>=1.0.1 in /Users/gordon.oh/Desktop/quant_research/venv/lib/python3.9/site-packages (from argon2-cffi-bindings->argon2-cffi>=21.1->jupyter-server<3,>=2.4.0->jupyterlab->-r requirements.txt (line 7)) (1.16.0)\n",
      "Requirement already satisfied: pycparser in /Users/gordon.oh/Desktop/quant_research/venv/lib/python3.9/site-packages (from cffi>=1.0.1->argon2-cffi-bindings->argon2-cffi>=21.1->jupyter-server<3,>=2.4.0->jupyterlab->-r requirements.txt (line 7)) (2.22)\n",
      "Requirement already satisfied: soupsieve>1.2 in /Users/gordon.oh/Desktop/quant_research/venv/lib/python3.9/site-packages (from beautifulsoup4->nbconvert>=6.4.4->jupyter-server<3,>=2.4.0->jupyterlab->-r requirements.txt (line 7)) (2.5)\n",
      "Requirement already satisfied: arrow>=0.15.0 in /Users/gordon.oh/Desktop/quant_research/venv/lib/python3.9/site-packages (from isoduration->jsonschema[format-nongpl]>=4.18.0->jupyter-events>=0.9.0->jupyter-server<3,>=2.4.0->jupyterlab->-r requirements.txt (line 7)) (1.3.0)\n",
      "Requirement already satisfied: types-python-dateutil>=2.8.10 in /Users/gordon.oh/Desktop/quant_research/venv/lib/python3.9/site-packages (from arrow>=0.15.0->isoduration->jsonschema[format-nongpl]>=4.18.0->jupyter-events>=0.9.0->jupyter-server<3,>=2.4.0->jupyterlab->-r requirements.txt (line 7)) (2.9.0.20240316)\n",
      "Requirement already satisfied: asttokens>=2.1.0 in /Users/gordon.oh/Desktop/quant_research/venv/lib/python3.9/site-packages (from stack-data->ipython>=7.23.1->ipykernel->-r requirements.txt (line 8)) (2.4.1)\n",
      "Requirement already satisfied: pure-eval in /Users/gordon.oh/Desktop/quant_research/venv/lib/python3.9/site-packages (from stack-data->ipython>=7.23.1->ipykernel->-r requirements.txt (line 8)) (0.2.2)\n",
      "Requirement already satisfied: executing>=1.2.0 in /Users/gordon.oh/Desktop/quant_research/venv/lib/python3.9/site-packages (from stack-data->ipython>=7.23.1->ipykernel->-r requirements.txt (line 8)) (2.0.1)\n",
      "Building wheels for collected packages: ecos\n",
      "  Building wheel for ecos (PEP 517) ... \u001b[?25ldone\n",
      "\u001b[?25h  Created wheel for ecos: filename=ecos-2.0.14-cp39-cp39-macosx_10_9_universal2.whl size=151408 sha256=68097cb7421f2beb785474010b34418e9699c16f9d331f2a872a25605dc5bdb5\n",
      "  Stored in directory: /Users/gordon.oh/Library/Caches/pip/wheels/88/68/07/e0e9fb25cbb17d151b57404b1f995954acd9a6fc1e020871fd\n",
      "Successfully built ecos\n",
      "Installing collected packages: qdldl, scs, osqp, ecos, clarabel, cvxpy\n",
      "Successfully installed clarabel-0.9.0 cvxpy-1.5.2 ecos-2.0.14 osqp-0.6.7.post0 qdldl-0.1.7.post4 scs-3.2.6\n",
      "\u001b[33mWARNING: You are using pip version 21.2.4; however, version 24.1.2 is available.\n",
      "You should consider upgrading via the '/Users/gordon.oh/Desktop/quant_research/venv/bin/python3 -m pip install --upgrade pip' command.\u001b[0m\n",
      "Note: you may need to restart the kernel to use updated packages.\n"
     ]
    }
   ],
   "source": [
    "pip install -r requirements.txt"
   ]
  },
  {
   "cell_type": "markdown",
   "id": "f90ad883-ce63-4504-8af6-52998aedb87d",
   "metadata": {},
   "source": [
    "## Import packages"
   ]
  },
  {
   "cell_type": "code",
   "execution_count": 1,
   "id": "c1f89e4a",
   "metadata": {
    "_cell_guid": "b1076dfc-b9ad-4769-8c92-a6c4dae69d19",
    "_uuid": "8f2839f25d086af736a60e9eeb907d3b93b6e0e5",
    "papermill": {
     "duration": 29.034008,
     "end_time": "2023-11-01T02:04:18.534845",
     "exception": false,
     "start_time": "2023-11-01T02:03:49.500837",
     "status": "completed"
    },
    "tags": []
   },
   "outputs": [],
   "source": [
    "import numpy as np \n",
    "import pandas as pd \n",
    "import matplotlib.pyplot as plt\n",
    "import os\n",
    "import sys\n",
    "from datetime import datetime\n",
    "import seaborn as sns\n",
    "from sklearn.preprocessing import MinMaxScaler\n",
    "from statsmodels.tsa.stattools import coint\n",
    "from itertools import combinations\n",
    "from statsmodels.tsa.stattools import coint\n",
    "from utils import calculate_profit, plot_strategy\n",
    "from data_manager import load_ts_df, process_data, sanitize_data\n",
    "from typing import List\n",
    "import cvxpy as cp"
   ]
  },
  {
   "cell_type": "markdown",
   "id": "1bf0de13",
   "metadata": {},
   "source": [
    "## Process Price Dataframe\n",
    "\n",
    "- Before proceeding, ensure that the price data has been downloaded using ***'data_manager.py'***.\n",
    "- Enter the ***cex*** (Centralized Exchange) and ***interval*** values used for data download to load the relevant *.pkl* files and retrieve the dataframe.\n",
    "- You can specify a batch of pairs to load using the ***selected_pairs*** variable. If no pairs are selected, all available pairs will be loaded by default.\n",
    "- Note that some pairs might be new and may lack sufficient data within the downloaded timeframe. Such pairs will be removed based on the ***nan_remove_threshold*** setting, which defines the maximum percentage of NaN values allowed relative to the total data points. For example, with a ***nan_remove_threshold*** of 0.1, if a pair has 100 data points and 15 are NaN, the pair will be excluded.\n",
    "- From the remaining pairs, you can filter the top N volume pairs using the ***top_n_volume_pairs*** parameter.\n",
    "- This part of the code will also ensure that all timeseries columns have the same number of data points.\n",
    "- The earliest and latest dates for all pairs will be recorded. These dates can then be used to determine the timeframe for slicing the data in the next step."
   ]
  },
  {
   "cell_type": "markdown",
   "id": "13057dad-759b-4606-b673-6b699765f2c1",
   "metadata": {},
   "source": [
    "### Inputs"
   ]
  },
  {
   "cell_type": "code",
   "execution_count": 2,
   "id": "9ffa57f5-0ef6-49ca-847f-b439c1c63bdd",
   "metadata": {},
   "outputs": [],
   "source": [
    "##### INPUTS #####\n",
    "cex = 'binance'\n",
    "interval = '1h'\n",
    "nan_remove_threshold = 0.1\n",
    "\n",
    "# Select only the pairs below to analyse. All pairs will be selected if the list is empty.\n",
    "selected_pairs = []\n",
    "\n",
    "# Select only the top N mean volume pairs from the selected pairs to analyse.\n",
    "top_n_volume_pairs = 100\n",
    "\n",
    "# Select volume filter mode. Options: ['rolling', 'mean'].\n",
    "volume_filter_mode = 'rolling'\n",
    "##################"
   ]
  },
  {
   "cell_type": "code",
   "execution_count": 3,
   "id": "aa468df5",
   "metadata": {},
   "outputs": [
    {
     "name": "stdout",
     "output_type": "stream",
     "text": [
      "\n",
      "Mode: Pairs-Trading (Beta Neutral) Strategy\n",
      "CEX: Binance\n",
      "Interval: 1h\n",
      "NaN Remove Threshold: 0.1\n",
      "Selected pairs to analyse: []\n",
      "Top N Volume Pairs: 100\n",
      "Volume Filter Mode: Rolling\n",
      "\n",
      "Filtered top 100 mean volume pairs.\n",
      "Successfully loaded candlestick dataframe for all available pairs.\n",
      "\n",
      "Earliest time series start date: 2024-06-21\n",
      "Latest time series end date: 2024-07-21\n",
      "\n",
      "\n"
     ]
    }
   ],
   "source": [
    "print(\"\\nMode: Pairs-Trading (Beta Neutral) Strategy\")\n",
    "print(\"CEX: {}\".format(str(cex).capitalize()))\n",
    "print(\"Interval: {}\".format(interval))\n",
    "print(\"NaN Remove Threshold: {}\".format(nan_remove_threshold))\n",
    "print(\"Selected pairs to analyse: {}\".format(selected_pairs))\n",
    "print(\"Top N Volume Pairs: {}\".format(top_n_volume_pairs))\n",
    "print(\"Volume Filter Mode: {}\".format(str(volume_filter_mode).capitalize()))\n",
    "\n",
    "merged_df = process_data('beta_neutral', cex, interval, nan_remove_threshold, selected_pairs,\n",
    "                 top_n_volume_pairs, volume_filter_mode)\n",
    "\n",
    "print(\"\\n\")"
   ]
  },
  {
   "cell_type": "markdown",
   "id": "66614d32-8464-4265-b709-8a2d7a681acf",
   "metadata": {},
   "source": [
    "## Sanitize the dataframe\n",
    "\n",
    "- Slice the dataframe according to the specified ***start_date*** and ***end_date***. Choose ***start_date*** and ***end_date*** within the timeframe shown by the output of the previous cell.\n",
    "- Interpolate any missing values in the dataframe.\n",
    "- If the interpolation fails, just backfill with the latest valid value.\n",
    "- Verify that all is as expected with an `assert` and check the shapes of 2 random pairs, which should have the same dimensions."
   ]
  },
  {
   "cell_type": "markdown",
   "id": "1705815e-af19-428e-b1b2-2f1ffd123c1b",
   "metadata": {},
   "source": [
    "### Inputs"
   ]
  },
  {
   "cell_type": "code",
   "execution_count": 6,
   "id": "57b0551a-033f-4b9a-8ac0-d82ceef0861b",
   "metadata": {},
   "outputs": [],
   "source": [
    "##### INPUTS #####\n",
    "start_date = '2024-06-01'\n",
    "end_date = '2024-07-22'\n",
    "##################"
   ]
  },
  {
   "cell_type": "code",
   "execution_count": 13,
   "id": "b1c499c5-4313-40e1-bb52-ae3462912b5c",
   "metadata": {},
   "outputs": [
    {
     "name": "stdout",
     "output_type": "stream",
     "text": [
      "\n",
      "\n",
      "-Data Check-\n",
      "BTCUSDT's Data Shape: (730, 1)\n",
      "ETHUSDT's Data Shape: (730, 1)\n",
      "\n",
      "\n"
     ]
    }
   ],
   "source": [
    "print(\"\\n\")\n",
    "\n",
    "data_sanitized, sorted_available_pairs = sanitize_data(merged_df, start_date, end_date)\n",
    "\n",
    "if data_sanitized:\n",
    "    print(\"-Data Check-\")\n",
    "    keys = list(data_sanitized.keys())\n",
    "    count = 0\n",
    "\n",
    "    for key in keys:\n",
    "        print(\"{}'s Data Shape: {}\".format(key, data_sanitized[key].shape))\n",
    "        count+=1\n",
    "\n",
    "        if count == 2:\n",
    "            break\n",
    "            \n",
    "else:\n",
    "    print(\"No data found.\")\n",
    "\n",
    "print(\"\\n\")"
   ]
  },
  {
   "cell_type": "markdown",
   "id": "b87a62a5",
   "metadata": {},
   "source": [
    "## Compute Percentage Returns\n",
    "\n",
    "To compute percentage returns with a time series of close data, you first need to calculate the daily returns by finding the percentage change between consecutive prices. This can be done using the formula below:\n",
    "$$Percentage \\space Return = \\frac{Price_{t} - Price_{t-1}}{Price_{t-1}} \\times 100$$\n",
    "1. ${Price_{t}}$ is the calculated price on day t.\n",
    "2. ${Price_{t-1}}$ is the calculated price on the previous candlestick.\n",
    "\n",
    "In a pandas DataFrame, this can be efficiently computed using the pct_change() method on the price column. The resulting series represents the daily percentage returns, reflecting the day-to-day performance of the asset. Summarizing or compounding these daily returns over longer periods can provide insights into the overall performance of the asset over time."
   ]
  },
  {
   "cell_type": "code",
   "execution_count": 19,
   "id": "9e53c419-c425-46da-8e69-c9087ef98586",
   "metadata": {},
   "outputs": [
    {
     "name": "stdout",
     "output_type": "stream",
     "text": [
      "\n",
      "\n",
      "-Data Check-\n",
      "Percentage Returns' Data Shape (should be 1 row lesser than printed above): (729, 100)\n",
      "\n",
      "\n"
     ]
    }
   ],
   "source": [
    "print(\"\\n\")\n",
    "\n",
    "returns = pd.DataFrame()\n",
    "\n",
    "for pair, df in data_sanitized.items():\n",
    "    tmp_return_df = df['Close'].pct_change().dropna().to_frame(name=pair)\n",
    "    returns = pd.merge(returns, tmp_return_df, how='outer', left_index=True, right_index=True)\n",
    "\n",
    "print(\"-Data Check-\")\n",
    "print(\"Percentage Returns' Data Shape (should be 1 row lesser than printed above): {}\".format(returns.shape))\n",
    "print(\"\\n\")"
   ]
  },
  {
   "cell_type": "code",
   "execution_count": null,
   "id": "7cdc4712-4305-46f6-a118-04ee432dc8be",
   "metadata": {},
   "outputs": [],
   "source": []
  }
 ],
 "metadata": {
  "kernelspec": {
   "display_name": "venv",
   "language": "python",
   "name": "venv"
  },
  "language_info": {
   "codemirror_mode": {
    "name": "ipython",
    "version": 3
   },
   "file_extension": ".py",
   "mimetype": "text/x-python",
   "name": "python",
   "nbconvert_exporter": "python",
   "pygments_lexer": "ipython3",
   "version": "3.9.6"
  },
  "papermill": {
   "default_parameters": {},
   "duration": 34.659839,
   "end_time": "2023-11-01T02:04:21.309361",
   "environment_variables": {},
   "exception": null,
   "input_path": "__notebook__.ipynb",
   "output_path": "__notebook__.ipynb",
   "parameters": {},
   "start_time": "2023-11-01T02:03:46.649522",
   "version": "2.4.0"
  }
 },
 "nbformat": 4,
 "nbformat_minor": 5
}
