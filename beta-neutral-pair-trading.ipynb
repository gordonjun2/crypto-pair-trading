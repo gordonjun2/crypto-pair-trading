{
 "cells": [
  {
   "cell_type": "markdown",
   "id": "0e43aa20",
   "metadata": {},
   "source": [
    "# Pairs-Trading (Beta Neutral) Strategy Analysis\n",
    "\n",
    "The beta neutral trading strategy is a market-neutral approach designed to eliminate systematic market risk by constructing a portfolio that has a net beta of zero. This strategy aims to generate alpha (excess returns above the market) by taking both long and short positions in securities such that the overall portfolio is insulated from broad market movements.\n",
    "\n",
    "Key Concepts:\n",
    "- **Beta**: A measure of a security's volatility in relation to the overall market. A beta of 1 indicates that the security moves with the market, a beta greater than 1 indicates higher volatility than the market, and a beta less than 1 indicates lower volatility.\n",
    "- **Market Neutral**: A strategy that seeks to minimize exposure to market risk, focusing on generating returns from the individual performance of securities rather than market movements.\n",
    "\n",
    "Here's how it works:\n",
    "\n",
    "- **Identifying a Pair / Basket of Tokens**: Identify a set of tokens with varying betas.\n",
    "- **Calculating Beta**: Use historical price data to calculate the beta of each token relative to a benchmark token (e.g., BTC and ETH). This can be done using regression analysis where the token's returns are regressed against the benchmark's returns.\n",
    "- **Constructing the Portfolio**: \n",
    "    - **Long Positions**: Select tokens with positive alpha (expected to outperform their beta-implied returns) and go long on these.\n",
    "    - **Short Positions**: Select tokens with negative alpha (expected to underperform their beta-implied returns) and short these.\n",
    "    - Ensure the weighted average beta of the long positions is equal to the weighted average beta of the short positions, resulting in a net beta of zero.\n",
    "- **Position Sizing**: Calculate the dollar amount for each position to ensure that the portfolio remains beta neutral. This involves balancing the dollar value of long and short positions based on their respective betas.\n",
    "- **Monitoring and Rebalancing**: Regularly monitor the portfolio to ensure it remains beta neutral. Adjust positions as necessary to maintain the desired beta neutrality, especially if there are significant changes in the market or individual tokens.\n",
    "\n",
    "In this notebook, the pair trading negative / low correlation strategy is demonstrated using cryptocurrency price data sourced from the Binance, OKX, and Bybit APIs."
   ]
  },
  {
   "cell_type": "markdown",
   "id": "d6485699-1817-44c9-9c53-08bfb86511e9",
   "metadata": {},
   "source": [
    "## Credits\n",
    "\n",
    "This notebook heavily references [quant_playground](https://github.com/rukawa917/quant_playground) repository by [rukawa917](https://github.com/rukawa917) and [mkt_neutral.ipynb](https://gist.github.com/FilippoGuerrieri26/8086c42db442835234dd61ea6c07decb) by [FilippoGuerrieri26](https://gist.github.com/FilippoGuerrieri26). I want to extend my sincere gratitude to them for creating this valuable resource.\n"
   ]
  },
  {
   "cell_type": "markdown",
   "id": "eab73ff6-fa1f-46cc-900b-8268a0c14305",
   "metadata": {},
   "source": [
    "## Prepare your Environment\n",
    "\n",
    "Ensure that the 'venv' kernel is selected for this notebook. If not, click on 'Kernel' at the top bar, select 'Change Kernel...' and select 'venv' as the kernel. For convenience, ensure that 'Always start the preferred kernel' is ticked. Click 'Select' to confirm the setting.\n",
    "\n",
    "Install the environment's dependencies using the command below. After installation, restart the kernel to use the updated packages. To restart, click on 'Kernel' at the top bar and select 'Restart Kernel' and click on 'Restart'. Please skip this step if you have already done it."
   ]
  },
  {
   "cell_type": "code",
   "execution_count": null,
   "id": "d8d92236-023d-4e09-94c8-a65fcecd9c81",
   "metadata": {},
   "outputs": [],
   "source": [
    "pip install -r requirements.txt"
   ]
  },
  {
   "cell_type": "markdown",
   "id": "f90ad883-ce63-4504-8af6-52998aedb87d",
   "metadata": {},
   "source": [
    "## Import packages"
   ]
  },
  {
   "cell_type": "code",
   "execution_count": 1,
   "id": "c1f89e4a",
   "metadata": {
    "_cell_guid": "b1076dfc-b9ad-4769-8c92-a6c4dae69d19",
    "_uuid": "8f2839f25d086af736a60e9eeb907d3b93b6e0e5",
    "papermill": {
     "duration": 29.034008,
     "end_time": "2023-11-01T02:04:18.534845",
     "exception": false,
     "start_time": "2023-11-01T02:03:49.500837",
     "status": "completed"
    },
    "tags": []
   },
   "outputs": [],
   "source": [
    "import numpy as np \n",
    "import pandas as pd \n",
    "import matplotlib.pyplot as plt\n",
    "import matplotlib.patches as mpatches\n",
    "import os\n",
    "import sys\n",
    "from datetime import datetime\n",
    "import seaborn as sns\n",
    "from sklearn.preprocessing import MinMaxScaler\n",
    "from statsmodels.tsa.stattools import coint\n",
    "from itertools import combinations\n",
    "from statsmodels.tsa.stattools import coint\n",
    "from utils import calculate_profit, plot_strategy\n",
    "from data_manager import load_ts_df, process_data, sanitize_data\n",
    "from typing import List\n",
    "import cvxpy as cvx\n",
    "import warnings\n",
    "\n",
    "pd.set_option('display.max_rows', None)\n",
    "warnings.filterwarnings(\"ignore\")"
   ]
  },
  {
   "cell_type": "markdown",
   "id": "1bf0de13",
   "metadata": {},
   "source": [
    "## Process Price Dataframe\n",
    "\n",
    "- Before proceeding, ensure that the price data has been downloaded using ***'data_manager.py'***.\n",
    "- Enter the ***cex*** (Centralized Exchange) and ***interval*** values used for data download to load the relevant *.pkl* files and retrieve the dataframe.\n",
    "- You can specify a batch of pairs to load using the ***selected_pairs*** variable. The key represents the pair and its value represents the direction it must take (1: Long, -1: Short, 0: Does not matter). Unlike other notebooks, no pairs will be selected if the dictionary is empty.\n",
    "- Note that some pairs might be new and may lack sufficient data within the downloaded timeframe. Such pairs will be removed based on the ***nan_remove_threshold*** setting, which defines the maximum percentage of NaN values allowed relative to the total data points. For example, with a ***nan_remove_threshold*** of 0.1, if a pair has 100 data points and 15 are NaN, the pair will be excluded.\n",
    "- From the remaining pairs, you can filter the top N rolling or mean volume pairs using the ***top_n_volume_pairs*** and ***volume_filter_mode*** parameter. \n",
    "- This part of the code will also ensure that all timeseries columns have the same number of data points.\n",
    "- The earliest and latest dates for all pairs will be recorded. These dates can then be used to determine the timeframe for slicing the data in the next step."
   ]
  },
  {
   "cell_type": "markdown",
   "id": "13057dad-759b-4606-b673-6b699765f2c1",
   "metadata": {},
   "source": [
    "### Inputs"
   ]
  },
  {
   "cell_type": "code",
   "execution_count": 2,
   "id": "9ffa57f5-0ef6-49ca-847f-b439c1c63bdd",
   "metadata": {},
   "outputs": [],
   "source": [
    "##### INPUTS #####\n",
    "cex = 'binance'\n",
    "interval = '4h'\n",
    "nan_remove_threshold = 0.0\n",
    "\n",
    "# Select only the pairs below to analyse. The key represents the pair and its value represents the direction it must take. \n",
    "# 1: Long, -1: Short, 0: Does not matter\n",
    "# Unlike other notebooks, no pairs will be selected if the dictionary is empty. \n",
    "# selected_pairs = {'SOLUSDT':1, 'OMNIUSDT':-1, 'XAIUSDT':-1, 'STRKUSDT':-1, 'TNSRUSDT':-1, 'PORTALUSDT':-1, \n",
    "#                   'WUSDT':-1, 'ALTUSDT':-1, 'BTCUSDT':0}\n",
    "selected_pairs = {'ALTUSDT': -1, 'SOLUSDT': 1, 'TRXUSDT': 0, 'BTCUSDT':0}\n",
    "\n",
    "# Select only the top N mean volume pairs from the selected pairs to analyse.\n",
    "top_n_volume_pairs = 100\n",
    "\n",
    "# Select volume filter mode. Options: ['rolling', 'mean'].\n",
    "volume_filter_mode = 'rolling'\n",
    "\n",
    "# The train_test_split parameter is beneficial when separate datasets are needed for non-rolling and rolling portfolio weights \n",
    "# optimization. If False, all data will be used as train and test. If True and train_percentage is 0.5, the dataset is divided \n",
    "# into two halves. The first half is used to compute the non-rolling portfolio weights for the dates within this segment. In \n",
    "# contrast, the second half is employed for rolling portfolio weights optimization, utilizing the specified rolling_window parameter.\n",
    "train_test_split = False\n",
    "\n",
    "# Only applies if train_test_split = True\n",
    "train_percentage = 0.5 # only from 0 < train_percentage <= 1\n",
    "\n",
    "# Rolling Window\n",
    "rolling_window = 10\n",
    "\n",
    "# Minimum Long and Minimum Short. If min_long == 0.1, the weight for any pair selected for a long position will be optimized to at \n",
    "# least 0.1 after normalization, though this is not guaranteed. Similarly, if min_short == 0.1, the weight for any pair selected \n",
    "# for a short position will aim to be at least 0.1 after normalization, but this may not always be achievable.\n",
    "min_long = 0.1\n",
    "min_short = 0.1\n",
    "\n",
    "# Rolling optimisation unsolvable count threshold before exit. If total number of datetime is 1000 and unsolvable_threshold == 0.05, \n",
    "# then the max_unsolvable_count = 1000 * 0.05 = 50. If there are 50 consecutive unsolvable optimisation, the rolling optimisation\n",
    "# will stop.\n",
    "unsolvable_threshold = 0.05\n",
    "##################"
   ]
  },
  {
   "cell_type": "code",
   "execution_count": 4,
   "id": "aa468df5",
   "metadata": {},
   "outputs": [
    {
     "name": "stdout",
     "output_type": "stream",
     "text": [
      "\n",
      "Mode: Pairs-Trading (Beta Neutral) Strategy\n",
      "CEX: Binance\n",
      "Interval: 4h\n",
      "NaN Remove Threshold: 0.0\n",
      "Selected pairs to analyse: ['ALTUSDT', 'SOLUSDT', 'TRXUSDT', 'BTCUSDT']\n",
      "Top N Volume Pairs: 100\n",
      "Volume Filter Mode: Rolling\n",
      "Train-Test Split: False\n",
      "Rolling Window: 10\n",
      "Minimum Long Size (percentage of portfolio): 0.1\n",
      "Minimum Short Size (percentage of portfolio): 0.1\n",
      "Rolling Optimisation Unsolvable Threshold (percentage of available data): 0.05\n",
      "Successfully loaded candlestick dataframe for all available pairs.\n",
      "\n",
      "Earliest time series start date: 2024-02-18\n",
      "Latest time series end date: 2024-08-03\n",
      "\n",
      "\n"
     ]
    }
   ],
   "source": [
    "print(\"\\nMode: Pairs-Trading (Beta Neutral) Strategy\")\n",
    "print(\"CEX: {}\".format(str(cex).capitalize()))\n",
    "print(\"Interval: {}\".format(interval))\n",
    "print(\"NaN Remove Threshold: {}\".format(nan_remove_threshold))\n",
    "print(\"Selected pairs to analyse: {}\".format(list(selected_pairs.keys())))\n",
    "print(\"Top N Volume Pairs: {}\".format(top_n_volume_pairs))\n",
    "print(\"Volume Filter Mode: {}\".format(str(volume_filter_mode).capitalize()))\n",
    "print(\"Train-Test Split: {}\".format(str(train_test_split)))\n",
    "if train_test_split:\n",
    "    print(\"Train Percentage: {}\".format(train_percentage))\n",
    "print(\"Rolling Window: {}\".format(rolling_window))\n",
    "print(\"Minimum Long Size (percentage of portfolio): {}\".format(min_long))\n",
    "print(\"Minimum Short Size (percentage of portfolio): {}\".format(abs(min_short)))\n",
    "print(\"Rolling Optimisation Unsolvable Threshold (percentage of available data): {}\".format(unsolvable_threshold))\n",
    "\n",
    "merged_df = process_data('beta_neutral', cex, interval, nan_remove_threshold, selected_pairs,\n",
    "                 top_n_volume_pairs, volume_filter_mode)\n",
    "\n",
    "print(\"\\n\")"
   ]
  },
  {
   "cell_type": "markdown",
   "id": "66614d32-8464-4265-b709-8a2d7a681acf",
   "metadata": {},
   "source": [
    "## Sanitize the dataframe\n",
    "\n",
    "- Slice the dataframe according to the specified ***start_date*** and ***end_date***. Choose ***start_date*** and ***end_date*** within the timeframe shown by the output of the previous cell.\n",
    "- Interpolate any missing values in the dataframe.\n",
    "- If the interpolation fails, just backfill with the latest valid value.\n",
    "- Verify that all is as expected with an `assert` and check the shapes of 2 random pairs, which should have the same dimensions."
   ]
  },
  {
   "cell_type": "markdown",
   "id": "1705815e-af19-428e-b1b2-2f1ffd123c1b",
   "metadata": {},
   "source": [
    "### Inputs"
   ]
  },
  {
   "cell_type": "code",
   "execution_count": 5,
   "id": "57b0551a-033f-4b9a-8ac0-d82ceef0861b",
   "metadata": {},
   "outputs": [],
   "source": [
    "##### INPUTS #####\n",
    "start_date = '2024-02-18' # refer to the previous output to set\n",
    "end_date = '2024-08-03' # refer to the previous output to set\n",
    "##################"
   ]
  },
  {
   "cell_type": "code",
   "execution_count": 6,
   "id": "b1c499c5-4313-40e1-bb52-ae3462912b5c",
   "metadata": {},
   "outputs": [
    {
     "name": "stdout",
     "output_type": "stream",
     "text": [
      "\n",
      "\n",
      "-Data Check-\n",
      "BTCUSDT's Data Shape: (999, 1)\n",
      "SOLUSDT's Data Shape: (999, 1)\n",
      "\n",
      "\n"
     ]
    }
   ],
   "source": [
    "print(\"\\n\")\n",
    "\n",
    "data_sanitized, sorted_available_pairs = sanitize_data(merged_df, start_date, end_date)\n",
    "\n",
    "if data_sanitized:\n",
    "    print(\"-Data Check-\")\n",
    "    keys = list(data_sanitized.keys())\n",
    "    count = 0\n",
    "\n",
    "    for key in keys:\n",
    "        print(\"{}'s Data Shape: {}\".format(key, data_sanitized[key].shape))\n",
    "        count+=1\n",
    "\n",
    "        if count == 2:\n",
    "            break\n",
    "            \n",
    "else:\n",
    "    print(\"No data found.\")\n",
    "\n",
    "print(\"\\n\")"
   ]
  },
  {
   "cell_type": "markdown",
   "id": "b87a62a5",
   "metadata": {},
   "source": [
    "## Compute Percentage Returns\n",
    "\n",
    "To compute percentage returns with a time series of close data, you first need to calculate the daily returns by finding the percentage change between consecutive prices. This can be done using the formula below:\n",
    "$$Percentage \\space Return = \\frac{Price_{t} - Price_{t-1}}{Price_{t-1}} \\times 100$$\n",
    "1. ${Price_{t}}$ is the calculated price on day t.\n",
    "2. ${Price_{t-1}}$ is the calculated price on the previous candlestick.\n",
    "\n",
    "In a pandas DataFrame, this can be efficiently computed using the pct_change() method on the price column. The resulting series represents the daily percentage returns, reflecting the day-to-day performance of the asset. Summarizing or compounding these daily returns over longer periods can provide insights into the overall performance of the asset over time."
   ]
  },
  {
   "cell_type": "code",
   "execution_count": 7,
   "id": "9e53c419-c425-46da-8e69-c9087ef98586",
   "metadata": {},
   "outputs": [
    {
     "name": "stdout",
     "output_type": "stream",
     "text": [
      "\n",
      "\n",
      "-Data Check-\n",
      "Percentage Returns' Data Shape (should be 1 row lesser than printed above): (998, 4)\n",
      "\n",
      "\n"
     ]
    }
   ],
   "source": [
    "print(\"\\n\")\n",
    "\n",
    "returns = pd.DataFrame()\n",
    "\n",
    "for pair, df in data_sanitized.items():\n",
    "    tmp_return_df = df['Close'].pct_change().dropna().to_frame(name=pair)\n",
    "    returns = pd.merge(returns, tmp_return_df, how='outer', left_index=True, right_index=True)\n",
    "returns = returns.T.sort_index().T\n",
    "\n",
    "print(\"-Data Check-\")\n",
    "print(\"Percentage Returns' Data Shape (should be 1 row lesser than printed above): {}\".format(returns.shape))\n",
    "print(\"\\n\")\n"
   ]
  },
  {
   "cell_type": "markdown",
   "id": "349e6d60-0f0a-4fea-ae2c-169712cf7307",
   "metadata": {},
   "source": [
    "## Split Train and Test Dataset\n",
    "\n",
    "This is for non-rolling (Train) and rolling (Test) portfolio weights optimisation."
   ]
  },
  {
   "cell_type": "code",
   "execution_count": 8,
   "id": "5f2ebbce-f593-42c2-8401-c2b050a0c1de",
   "metadata": {},
   "outputs": [
    {
     "name": "stdout",
     "output_type": "stream",
     "text": [
      "\n",
      "\n",
      "-Data Check-\n",
      "Train Returns' Data Shape: (997, 4)\n",
      "Test Returns' Data Shape: (997, 4)\n",
      "\n",
      "\n"
     ]
    }
   ],
   "source": [
    "print(\"\\n\")\n",
    "\n",
    "if train_test_split:\n",
    "    total_length = len(returns)\n",
    "    train_length = int(total_length * train_percentage)\n",
    "    test_length = total_length - train_length\n",
    "\n",
    "    if train_length != 0 and test_length != 0:\n",
    "        train_return_df = returns.reset_index().loc[:total_length-test_length].iloc[:-1].set_index('Open Time')\n",
    "        test_return_df = returns.reset_index().loc[total_length-test_length:].set_index('Open Time')\n",
    "        full_return_df = pd.concat([train_return_df, test_return_df])\n",
    "\n",
    "        print(\"-Data Check-\")\n",
    "        print(\"Train Returns' Data Shape: {}\".format(train_return_df.shape))\n",
    "        print(\"Test Returns' Data Shape: {}\".format(test_return_df.shape))\n",
    "\n",
    "    else:\n",
    "        print(\"Train and test length must be more than 0.\")\n",
    "        \n",
    "else:\n",
    "    train_return_df = returns.reset_index().loc[:].iloc[:-1].set_index('Open Time')\n",
    "    test_return_df = train_return_df.copy()\n",
    "    full_return_df = train_return_df.copy()\n",
    "\n",
    "    print(\"-Data Check-\")\n",
    "    print(\"Train Returns' Data Shape: {}\".format(train_return_df.shape))\n",
    "    print(\"Test Returns' Data Shape: {}\".format(test_return_df.shape))\n",
    "\n",
    "print(\"\\n\")"
   ]
  },
  {
   "cell_type": "markdown",
   "id": "824af7af-dcf9-4baa-a9c5-0f3a0f828bd9",
   "metadata": {},
   "source": [
    "## Market Neutral Optimization\n",
    "\n",
    "In order to be able to compute market neutral weights, we need the VCV matrix of the constituents and the betas to market.\n",
    "Recall that portfolio beta is equal to the sum of the (weighted) beta of the constituents"
   ]
  },
  {
   "cell_type": "code",
   "execution_count": 9,
   "id": "a16ece79-b2bb-4755-a64f-49e06cb859c0",
   "metadata": {},
   "outputs": [
    {
     "data": {
      "text/html": [
       "<div>\n",
       "<style scoped>\n",
       "    .dataframe tbody tr th:only-of-type {\n",
       "        vertical-align: middle;\n",
       "    }\n",
       "\n",
       "    .dataframe tbody tr th {\n",
       "        vertical-align: top;\n",
       "    }\n",
       "\n",
       "    .dataframe thead th {\n",
       "        text-align: right;\n",
       "    }\n",
       "</style>\n",
       "<table border=\"1\" class=\"dataframe\">\n",
       "  <thead>\n",
       "    <tr style=\"text-align: right;\">\n",
       "      <th></th>\n",
       "      <th>ALTUSDT</th>\n",
       "      <th>BTCUSDT</th>\n",
       "      <th>SOLUSDT</th>\n",
       "      <th>TRXUSDT</th>\n",
       "    </tr>\n",
       "  </thead>\n",
       "  <tbody>\n",
       "    <tr>\n",
       "      <th>ALTUSDT</th>\n",
       "      <td>0.000360</td>\n",
       "      <td>0.000081</td>\n",
       "      <td>0.000143</td>\n",
       "      <td>0.000036</td>\n",
       "    </tr>\n",
       "    <tr>\n",
       "      <th>BTCUSDT</th>\n",
       "      <td>0.000081</td>\n",
       "      <td>0.000063</td>\n",
       "      <td>0.000080</td>\n",
       "      <td>0.000020</td>\n",
       "    </tr>\n",
       "    <tr>\n",
       "      <th>SOLUSDT</th>\n",
       "      <td>0.000143</td>\n",
       "      <td>0.000080</td>\n",
       "      <td>0.000186</td>\n",
       "      <td>0.000032</td>\n",
       "    </tr>\n",
       "    <tr>\n",
       "      <th>TRXUSDT</th>\n",
       "      <td>0.000036</td>\n",
       "      <td>0.000020</td>\n",
       "      <td>0.000032</td>\n",
       "      <td>0.000025</td>\n",
       "    </tr>\n",
       "  </tbody>\n",
       "</table>\n",
       "</div>"
      ],
      "text/plain": [
       "          ALTUSDT   BTCUSDT   SOLUSDT   TRXUSDT\n",
       "ALTUSDT  0.000360  0.000081  0.000143  0.000036\n",
       "BTCUSDT  0.000081  0.000063  0.000080  0.000020\n",
       "SOLUSDT  0.000143  0.000080  0.000186  0.000032\n",
       "TRXUSDT  0.000036  0.000020  0.000032  0.000025"
      ]
     },
     "execution_count": 9,
     "metadata": {},
     "output_type": "execute_result"
    }
   ],
   "source": [
    "Sigma = train_return_df.cov()\n",
    "Sigma.head()"
   ]
  },
  {
   "cell_type": "markdown",
   "id": "e745b48a-b0e5-45f0-bdd6-7a045738364b",
   "metadata": {},
   "source": [
    "## Select Pairs for Detailed Analysis\n",
    "\n",
    "- Please select any pair combination from the output below."
   ]
  },
  {
   "cell_type": "code",
   "execution_count": 10,
   "id": "6f9456fa-811f-4cfc-b2b3-80b8be59f3bc",
   "metadata": {},
   "outputs": [
    {
     "name": "stdout",
     "output_type": "stream",
     "text": [
      "\n",
      "Selectable pairs:\n",
      "- ALTUSDT\n",
      "- BTCUSDT\n",
      "- SOLUSDT\n",
      "- TRXUSDT\n",
      "\n",
      "\n"
     ]
    }
   ],
   "source": [
    "print(\"\\nSelectable pairs:\")\n",
    "\n",
    "for pair in sorted_available_pairs:\n",
    "    print(\"- {}\".format(pair))\n",
    "\n",
    "sorted_available_pairs = {pair:selected_pairs[pair] for pair in sorted_available_pairs if pair in selected_pairs}\n",
    "\n",
    "print(\"\\n\")"
   ]
  },
  {
   "cell_type": "markdown",
   "id": "5e018a4a-efca-43b1-92b3-3fe2e942a681",
   "metadata": {},
   "source": [
    "## Inputs"
   ]
  },
  {
   "cell_type": "code",
   "execution_count": 11,
   "id": "3b759b99-13c2-4b9e-acc6-aebc4012d2f7",
   "metadata": {},
   "outputs": [],
   "source": [
    "##### INPUTS #####\n",
    "benchmark_token = 'BTCUSDT'\n",
    "##################"
   ]
  },
  {
   "cell_type": "code",
   "execution_count": 12,
   "id": "b84588b9-faad-4b0d-a6a0-f0e4a7e14c88",
   "metadata": {},
   "outputs": [
    {
     "name": "stdout",
     "output_type": "stream",
     "text": [
      "\n",
      "\n",
      "-Data Check-\n",
      "Betas:\n",
      "ALTUSDT    1.289039\n",
      "SOLUSDT    1.267353\n",
      "TRXUSDT    0.319203\n",
      "Name: BTCUSDT, dtype: float64\n",
      "\n",
      "\n"
     ]
    }
   ],
   "source": [
    "print(\"\\n\")\n",
    "\n",
    "betas = Sigma[benchmark_token] / Sigma.loc[benchmark_token, benchmark_token]\n",
    "betas.drop(benchmark_token, inplace=True)\n",
    "betas = betas.sort_values(ascending=False)\n",
    "\n",
    "print(\"-Data Check-\")\n",
    "print(\"Betas:\")\n",
    "print(betas)\n",
    "\n",
    "betas = betas.sort_index()\n",
    "\n",
    "print(\"\\n\")"
   ]
  },
  {
   "cell_type": "code",
   "execution_count": 13,
   "id": "c2a8423c-a2b8-4c14-8912-cb69837dee98",
   "metadata": {},
   "outputs": [],
   "source": [
    "train_return_df.drop(benchmark_token, axis=1, inplace=True)  # since we are using BTC as the benchmark\n",
    "final_Sigma = train_return_df.cov()"
   ]
  },
  {
   "cell_type": "markdown",
   "id": "11379dbb-6786-4ad9-a9cf-ff285e171c91",
   "metadata": {},
   "source": [
    "## CVXPY Optimization Function\n",
    "\n",
    "We are going to setup a minimization problem.\n",
    "We want to minimize the portofolio variance like in a simple MV framework, but subject to an additional constrain:\n",
    "The sum of the constituents (weighted) betas must add up to 0, in order to achieve market neutrality"
   ]
  },
  {
   "cell_type": "code",
   "execution_count": 14,
   "id": "31056231-516b-4d8e-ba5c-12f3082b6b1e",
   "metadata": {},
   "outputs": [],
   "source": [
    "def dynamic_scaling(ratio, base_factor = 1.25):\n",
    "    return ratio * base_factor\n",
    "    \n",
    "\n",
    "def optimize_beta_neutral_portfolio(cov_matrix, mkt_betas, sorted_available_pairs, min_long=0.1, min_short=-0.1, tolerance=1e-4) -> pd.DataFrame:\n",
    "    index_direction_dict = {mkt_betas.index.get_loc(pair):sorted_available_pairs[pair] for pair in mkt_betas.index if pair in sorted_available_pairs}\n",
    "    index_min_long_short_dict = {}\n",
    "    for pair in mkt_betas.index:\n",
    "        if pair in sorted_available_pairs:\n",
    "            if sorted_available_pairs[pair] == 1:\n",
    "                index_min_long_short_dict[mkt_betas.index.get_loc(pair)] = abs(min_long)\n",
    "            elif sorted_available_pairs[pair] == -1:\n",
    "                index_min_long_short_dict[mkt_betas.index.get_loc(pair)] = -1 * abs(min_short)\n",
    "\n",
    "    try_count = 1\n",
    "    finish_flag = False\n",
    "\n",
    "    while try_count <= 10 and finish_flag == False:\n",
    "\n",
    "        finish_flag = True\n",
    "\n",
    "        n = cov_matrix.shape[1]\n",
    "        weights = cvx.Variable(n)\n",
    "        pf_var = cvx.quad_form(weights, cov_matrix.values)\n",
    "        objective = cvx.Minimize(pf_var)\n",
    "\n",
    "        constraints = [\n",
    "            # weights.T @ mkt_betas == 0,\n",
    "            # cvx.sum(weights) == 1,\n",
    "            cvx.abs(weights.T @ mkt_betas) <= tolerance,  # Allow a small deviation from zero\n",
    "            cvx.abs(cvx.sum(weights) - 1) <= tolerance  # Allow a small deviation from 1\n",
    "        ]\n",
    "        \n",
    "        for i, d in index_direction_dict.items():\n",
    "            if d == 1:\n",
    "                constraints.append(weights[i] >= index_min_long_short_dict[i])\n",
    "            elif d == -1:\n",
    "                constraints.append(weights[i] <= index_min_long_short_dict[i])\n",
    "    \n",
    "        prob = cvx.Problem(objective, constraints)\n",
    "        if not prob.is_dcp():\n",
    "            raise Exception(\"Problem is not DCP\")\n",
    "    \n",
    "        prob.solve()\n",
    "        if prob.status != cvx.OPTIMAL:\n",
    "            raise Exception(\"Optimization problem is not solvable\")\n",
    "    \n",
    "        weights = weights.value\n",
    "    \n",
    "        sum_weights = np.sum(np.abs(weights))\n",
    "        weights = weights / sum_weights\n",
    "\n",
    "        # print(index_direction_dict)\n",
    "        # print(index_min_long_short_dict)\n",
    "        # print(weights)\n",
    "    \n",
    "        for i, ls in index_min_long_short_dict.items():\n",
    "            if index_min_long_short_dict[i] >= 0:\n",
    "                if min_long > weights[i]:\n",
    "                    ratio = min_long / weights[i]\n",
    "                    scale_factor = dynamic_scaling(ratio)\n",
    "                    # print(min_long, weights[i], scale_factor)\n",
    "                    index_min_long_short_dict[i] *= scale_factor\n",
    "                    finish_flag = False\n",
    "            else:\n",
    "                if abs(min_short) > abs(weights[i]):\n",
    "                    ratio = abs(min_short) / abs(weights[i])\n",
    "                    scale_factor = dynamic_scaling(ratio)\n",
    "                    # print(-1 * abs(min_short), weights[i], scale_factor)\n",
    "                    index_min_long_short_dict[i] *= scale_factor\n",
    "                    finish_flag = False\n",
    "\n",
    "        # print(\"\\n\")\n",
    "        \n",
    "        try_count += 1\n",
    "\n",
    "    w = pd.Series(weights, index=cov_matrix.columns)\n",
    "\n",
    "    return w\n",
    "\n",
    "w = optimize_beta_neutral_portfolio(final_Sigma, betas, sorted_available_pairs, min_long, min_short)\n"
   ]
  },
  {
   "cell_type": "markdown",
   "id": "f7c15440-dceb-40ce-8084-d9723b555df2",
   "metadata": {},
   "source": [
    "## Plot Portfolio Weights"
   ]
  },
  {
   "cell_type": "code",
   "execution_count": 15,
   "id": "4edcb202-0b18-48df-85ce-3f57333a5410",
   "metadata": {},
   "outputs": [
    {
     "data": {
      "image/png": "[encoded data removed]",
      "text/plain": [
       "<Figure size 1000x1200 with 2 Axes>"
      ]
     },
     "metadata": {},
     "output_type": "display_data"
    }
   ],
   "source": [
    "index = list(w.index)\n",
    "values = list(w.values)\n",
    "\n",
    "plt.figure(figsize=(10, 12))\n",
    "\n",
    "long_patch = mpatches.Patch(color='green', label='Long')\n",
    "short_patch = mpatches.Patch(color='red', label='Short')\n",
    "\n",
    "plt.subplot(2, 1, 1)\n",
    "colors = ['green' if val >= 0 else 'red' for val in values]\n",
    "plt.bar(w.index, w.values, color=colors)\n",
    "plt.title('Porfolio 1')\n",
    "plt.xlabel('Pairs', fontsize=14)\n",
    "plt.ylabel('Weights', fontsize=14)\n",
    "plt.legend(handles=[long_patch, short_patch])\n",
    "\n",
    "plt.subplot(2, 1, 2)\n",
    "colors = ['green' if val < 0 else 'red' for val in values]\n",
    "plt.bar(w.index, -w.values, color=colors)\n",
    "plt.title('Porfolio 2')\n",
    "plt.xlabel('Pairs', fontsize=14)\n",
    "plt.ylabel('Weights', fontsize=14)\n",
    "plt.legend(handles=[long_patch, short_patch])\n",
    "\n",
    "plt.tight_layout()\n",
    "plt.show()"
   ]
  },
  {
   "cell_type": "code",
   "execution_count": 16,
   "id": "ca6ef439-6ccd-4464-bae7-3ff0a6192aa5",
   "metadata": {},
   "outputs": [
    {
     "name": "stdout",
     "output_type": "stream",
     "text": [
      "\n",
      "\n",
      "Portfolio 1:\n",
      "          Weights Direction\n",
      "TRXUSDT  0.627090      Long\n",
      "SOLUSDT  0.109754      Long\n",
      "ALTUSDT -0.263156     Short\n",
      "\n",
      "\n",
      "Portfolio 2:\n",
      "          Weights Direction\n",
      "ALTUSDT  0.263156      Long\n",
      "SOLUSDT -0.109754     Short\n",
      "TRXUSDT -0.627090     Short\n",
      "\n",
      "\n"
     ]
    }
   ],
   "source": [
    "print(\"\\n\")\n",
    "\n",
    "weights_df_solution_one = pd.DataFrame(w, columns=['Weights'], index=w.index)\n",
    "weights_df_solution_two = weights_df_solution_one.copy()\n",
    "weights_df_solution_two['Weights'] = -weights_df_solution_two['Weights']\n",
    "\n",
    "weights_df_solution_one = weights_df_solution_one.sort_values(by='Weights', ascending=False)\n",
    "weights_df_solution_two = weights_df_solution_two.sort_values(by='Weights', ascending=False)\n",
    "\n",
    "weights_df_solution_one['Direction'] = weights_df_solution_one['Weights'].apply(lambda x: 'Long' if x > 0 else 'Short')\n",
    "weights_df_solution_two['Direction'] = weights_df_solution_two['Weights'].apply(lambda x: 'Long' if x > 0 else 'Short')\n",
    "\n",
    "print(\"Portfolio 1:\")\n",
    "print(weights_df_solution_one)\n",
    "print(\"\\n\")\n",
    "print(\"Portfolio 2:\")\n",
    "print(weights_df_solution_two)\n",
    "\n",
    "print(\"\\n\")"
   ]
  },
  {
   "cell_type": "code",
   "execution_count": 17,
   "id": "69350688-b743-4b24-9c1a-66e7bac32c35",
   "metadata": {},
   "outputs": [
    {
     "name": "stdout",
     "output_type": "stream",
     "text": [
      "\n",
      "\n",
      "Sum of Weights: 0.9999999999999999\n",
      "\n",
      "\n"
     ]
    }
   ],
   "source": [
    "print(\"\\n\")\n",
    "\n",
    "total_weight = weights_df_solution_one['Weights'].abs().sum()\n",
    "print(\"Sum of Weights:\", total_weight)\n",
    "\n",
    "print(\"\\n\")"
   ]
  },
  {
   "cell_type": "markdown",
   "id": "cc76d27d-f9cc-456b-b3df-ff235ec28da0",
   "metadata": {},
   "source": [
    "## Rolling Portfolio Beta"
   ]
  },
  {
   "cell_type": "code",
   "execution_count": 18,
   "id": "309e9fbf-5258-4c80-b007-d25f79105a5c",
   "metadata": {},
   "outputs": [
    {
     "data": {
      "text/html": [
       "<div>\n",
       "<style scoped>\n",
       "    .dataframe tbody tr th:only-of-type {\n",
       "        vertical-align: middle;\n",
       "    }\n",
       "\n",
       "    .dataframe tbody tr th {\n",
       "        vertical-align: top;\n",
       "    }\n",
       "\n",
       "    .dataframe thead th {\n",
       "        text-align: right;\n",
       "    }\n",
       "</style>\n",
       "<table border=\"1\" class=\"dataframe\">\n",
       "  <thead>\n",
       "    <tr style=\"text-align: right;\">\n",
       "      <th></th>\n",
       "      <th></th>\n",
       "      <th>ALTUSDT</th>\n",
       "      <th>BTCUSDT</th>\n",
       "      <th>SOLUSDT</th>\n",
       "      <th>TRXUSDT</th>\n",
       "    </tr>\n",
       "    <tr>\n",
       "      <th>Open Time</th>\n",
       "      <th></th>\n",
       "      <th></th>\n",
       "      <th></th>\n",
       "      <th></th>\n",
       "      <th></th>\n",
       "    </tr>\n",
       "  </thead>\n",
       "  <tbody>\n",
       "    <tr>\n",
       "      <th rowspan=\"4\" valign=\"top\">2024-02-20 08:00:00</th>\n",
       "      <th>ALTUSDT</th>\n",
       "      <td>0.000477</td>\n",
       "      <td>0.000022</td>\n",
       "      <td>0.000042</td>\n",
       "      <td>0.000014</td>\n",
       "    </tr>\n",
       "    <tr>\n",
       "      <th>BTCUSDT</th>\n",
       "      <td>0.000022</td>\n",
       "      <td>0.000014</td>\n",
       "      <td>0.000012</td>\n",
       "      <td>0.000004</td>\n",
       "    </tr>\n",
       "    <tr>\n",
       "      <th>SOLUSDT</th>\n",
       "      <td>0.000042</td>\n",
       "      <td>0.000012</td>\n",
       "      <td>0.000038</td>\n",
       "      <td>0.000007</td>\n",
       "    </tr>\n",
       "    <tr>\n",
       "      <th>TRXUSDT</th>\n",
       "      <td>0.000014</td>\n",
       "      <td>0.000004</td>\n",
       "      <td>0.000007</td>\n",
       "      <td>0.000006</td>\n",
       "    </tr>\n",
       "    <tr>\n",
       "      <th>2024-02-20 12:00:00</th>\n",
       "      <th>ALTUSDT</th>\n",
       "      <td>0.000517</td>\n",
       "      <td>0.000023</td>\n",
       "      <td>0.000017</td>\n",
       "      <td>0.000012</td>\n",
       "    </tr>\n",
       "  </tbody>\n",
       "</table>\n",
       "</div>"
      ],
      "text/plain": [
       "                              ALTUSDT   BTCUSDT   SOLUSDT   TRXUSDT\n",
       "Open Time                                                          \n",
       "2024-02-20 08:00:00 ALTUSDT  0.000477  0.000022  0.000042  0.000014\n",
       "                    BTCUSDT  0.000022  0.000014  0.000012  0.000004\n",
       "                    SOLUSDT  0.000042  0.000012  0.000038  0.000007\n",
       "                    TRXUSDT  0.000014  0.000004  0.000007  0.000006\n",
       "2024-02-20 12:00:00 ALTUSDT  0.000517  0.000023  0.000017  0.000012"
      ]
     },
     "execution_count": 18,
     "metadata": {},
     "output_type": "execute_result"
    }
   ],
   "source": [
    "# rolling covariance matrix starting from the test data\n",
    "rolling_cov = full_return_df.rolling(window=rolling_window).cov().dropna()\n",
    "rolling_cov.head()"
   ]
  },
  {
   "cell_type": "code",
   "execution_count": 19,
   "id": "8034509d-2317-4bab-b94e-2bc0b5836cbc",
   "metadata": {},
   "outputs": [],
   "source": [
    "# Rolling optimization\n",
    "dates = list(set(rolling_cov.index.get_level_values(0)))\n",
    "dates.sort()\n",
    "weights = pd.DataFrame(index=pd.Index(dates).sort_values(), columns = test_return_df.columns)\n",
    "betas = pd.DataFrame(index=pd.Index(dates).sort_values(), columns = test_return_df.columns)\n",
    "\n",
    "total_no_dates = len(dates)\n",
    "max_unsolvable_count = int(total_no_dates * unsolvable_threshold)\n",
    "unsolvable_count = 1\n",
    "\n",
    "for i, dt in enumerate(dates):\n",
    "    full_cov = rolling_cov.loc[dt]\n",
    "    final_cov = full_cov.drop(benchmark_token).drop(benchmark_token, axis=1)\n",
    "    final_beta = full_cov[benchmark_token].drop(benchmark_token) / full_cov.loc[benchmark_token, benchmark_token]\n",
    "\n",
    "    try:\n",
    "        weight_result = optimize_beta_neutral_portfolio(final_cov, final_beta, sorted_available_pairs, min_long, min_short)\n",
    "        unsolvable_count = 1\n",
    "    except:\n",
    "        if unsolvable_count >= max_unsolvable_count:\n",
    "            print(\"\\n\")\n",
    "            print(\"Rolling optimization is not solvable. Please debug the issue first before proceeding.\")\n",
    "            print(\"\\n\")\n",
    "            break\n",
    "        \n",
    "        if i != 0:\n",
    "            weight_result = weights.iloc[i - 1].drop(benchmark_token)\n",
    "        else:\n",
    "            weight_result = pd.Series(0.0, index=final_cov.columns)\n",
    "\n",
    "        unsolvable_count += 1\n",
    "        \n",
    "    weights.loc[dt, :] = weight_result\n",
    "    betas.loc[dt, :] = final_beta"
   ]
  },
  {
   "cell_type": "code",
   "execution_count": 20,
   "id": "7cff5b8f-2ff6-4f5f-a3a9-6e3ad8140dce",
   "metadata": {},
   "outputs": [],
   "source": [
    "weights.drop(benchmark_token, axis=1, inplace=True)\n",
    "betas.drop(benchmark_token, axis=1, inplace=True)\n",
    "\n",
    "weights_df_solution_one = weights.copy()\n",
    "weights_df_solution_two = weights.copy()\n",
    "weights_df_solution_two = weights_df_solution_two * -1"
   ]
  },
  {
   "cell_type": "code",
   "execution_count": 21,
   "id": "50a839da-9af0-4060-bf1c-e32142296f0f",
   "metadata": {},
   "outputs": [
    {
     "name": "stdout",
     "output_type": "stream",
     "text": [
      "\n",
      "\n",
      "-Data Check-\n",
      "Rolling Betas:\n",
      "                      ALTUSDT   SOLUSDT   TRXUSDT\n",
      "2024-02-20 08:00:00   1.55274  0.863711  0.283387\n",
      "2024-02-20 12:00:00  1.744198  0.997297  0.327125\n",
      "2024-02-20 16:00:00  2.629238  1.232706  0.326865\n",
      "2024-02-20 20:00:00  3.004905  1.357912  0.426292\n",
      "2024-02-21 00:00:00  2.850504  1.240768  0.495531\n",
      "                      ALTUSDT   SOLUSDT   TRXUSDT\n",
      "2024-08-02 04:00:00  0.827324  1.238518  0.258546\n",
      "2024-08-02 08:00:00  0.856581  1.256829  0.221842\n",
      "2024-08-02 12:00:00   0.93381  1.254396  0.303432\n",
      "2024-08-02 16:00:00  1.365124  1.420334  0.401318\n",
      "2024-08-02 20:00:00  1.297125  1.260893  0.284909\n",
      "\n",
      "\n"
     ]
    }
   ],
   "source": [
    "print(\"\\n\")\n",
    "\n",
    "print(\"-Data Check-\")\n",
    "print(\"Rolling Betas:\")\n",
    "print(betas.head())\n",
    "print(betas.tail())\n",
    "# print(betas)\n",
    "\n",
    "print(\"\\n\")"
   ]
  },
  {
   "cell_type": "code",
   "execution_count": 22,
   "id": "a1a98ba1-bf2a-4ae7-acca-3b0a526ad6a4",
   "metadata": {},
   "outputs": [
    {
     "name": "stdout",
     "output_type": "stream",
     "text": [
      "\n",
      "\n",
      "-Data Check-\n",
      "Porfolio 1 Rolling Weights:\n",
      "                      ALTUSDT   SOLUSDT   TRXUSDT\n",
      "2024-02-20 08:00:00  -0.19176  0.118503  0.689738\n",
      "2024-02-20 12:00:00 -0.196148   0.11821  0.685643\n",
      "2024-02-20 16:00:00 -0.147358  0.120123  0.732519\n",
      "2024-02-20 20:00:00 -0.156891   0.12033  0.722778\n",
      "2024-02-21 00:00:00 -0.174936  0.120603  0.704461\n",
      "                      ALTUSDT   SOLUSDT   TRXUSDT\n",
      "2024-08-02 04:00:00 -0.341221  0.114297  0.544482\n",
      "2024-08-02 08:00:00 -0.301909  0.100275  0.597815\n",
      "2024-08-02 12:00:00 -0.322461  0.100493  0.577047\n",
      "2024-08-02 16:00:00 -0.289283  0.107679  0.603038\n",
      "2024-08-02 20:00:00 -0.248229  0.110502  0.641268\n",
      "\n",
      "\n",
      "Porfolio 2 Rolling Weights:\n",
      "                      ALTUSDT   SOLUSDT   TRXUSDT\n",
      "2024-02-20 08:00:00   0.19176 -0.118503 -0.689738\n",
      "2024-02-20 12:00:00  0.196148  -0.11821 -0.685643\n",
      "2024-02-20 16:00:00  0.147358 -0.120123 -0.732519\n",
      "2024-02-20 20:00:00  0.156891  -0.12033 -0.722778\n",
      "2024-02-21 00:00:00  0.174936 -0.120603 -0.704461\n",
      "                      ALTUSDT   SOLUSDT   TRXUSDT\n",
      "2024-08-02 04:00:00  0.341221 -0.114297 -0.544482\n",
      "2024-08-02 08:00:00  0.301909 -0.100275 -0.597815\n",
      "2024-08-02 12:00:00  0.322461 -0.100493 -0.577047\n",
      "2024-08-02 16:00:00  0.289283 -0.107679 -0.603038\n",
      "2024-08-02 20:00:00  0.248229 -0.110502 -0.641268\n",
      "\n",
      "\n"
     ]
    }
   ],
   "source": [
    "print(\"\\n\")\n",
    "\n",
    "print(\"-Data Check-\")\n",
    "print(\"Porfolio 1 Rolling Weights:\")\n",
    "print(weights_df_solution_one.head())\n",
    "print(weights_df_solution_one.tail())\n",
    "# print(weights_df_solution_one)\n",
    "print(\"\\n\")\n",
    "print(\"Porfolio 2 Rolling Weights:\")\n",
    "print(weights_df_solution_two.head())\n",
    "print(weights_df_solution_two.tail())\n",
    "# print(weights_df_solution_two)\n",
    "\n",
    "print(\"\\n\")"
   ]
  },
  {
   "cell_type": "code",
   "execution_count": 23,
   "id": "89e42a07-d659-488b-ba61-bd733da05cea",
   "metadata": {},
   "outputs": [
    {
     "name": "stdout",
     "output_type": "stream",
     "text": [
      "\n",
      "\n",
      "-Data Check-\n",
      "Porfolio 1 Beta:\n",
      "2024-02-20 12:00:00    0.009346\n",
      "2024-02-20 16:00:00   -0.145888\n",
      "2024-02-20 20:00:00    0.032585\n",
      "2024-02-21 00:00:00    0.060241\n",
      "2024-02-21 04:00:00   -0.034329\n",
      "dtype: object\n",
      "2024-08-02 04:00:00    0.020916\n",
      "2024-08-02 08:00:00   -0.027843\n",
      "2024-08-02 12:00:00    0.025255\n",
      "2024-08-02 16:00:00   -0.065886\n",
      "2024-08-02 20:00:00   -0.067655\n",
      "dtype: object\n",
      "\n",
      "\n",
      "Portfolio 2 Beta\n",
      "2024-02-20 12:00:00   -0.009346\n",
      "2024-02-20 16:00:00    0.145888\n",
      "2024-02-20 20:00:00   -0.032585\n",
      "2024-02-21 00:00:00   -0.060241\n",
      "2024-02-21 04:00:00    0.034329\n",
      "dtype: object\n",
      "2024-08-02 04:00:00   -0.020916\n",
      "2024-08-02 08:00:00    0.027843\n",
      "2024-08-02 12:00:00   -0.025255\n",
      "2024-08-02 16:00:00    0.065886\n",
      "2024-08-02 20:00:00    0.067655\n",
      "dtype: object\n",
      "\n",
      "\n"
     ]
    }
   ],
   "source": [
    "print(\"\\n\")\n",
    "\n",
    "print(\"-Data Check-\")\n",
    "print(\"Porfolio 1 Beta:\")\n",
    "portfolio_one_beta = (weights_df_solution_one.shift(1) * betas).dropna().sum(axis=1)\n",
    "print(portfolio_one_beta.head())\n",
    "print(portfolio_one_beta.tail())\n",
    "# print(portfolio_one_beta)\n",
    "print(\"\\n\")\n",
    "print(\"Portfolio 2 Beta\")\n",
    "portfolio_two_beta = (weights_df_solution_two.shift(1) * betas).dropna().sum(axis=1)\n",
    "print(portfolio_two_beta.head())\n",
    "print(portfolio_two_beta.tail())\n",
    "# print(portfolio_two_beta)\n",
    "\n",
    "print(\"\\n\")"
   ]
  },
  {
   "cell_type": "code",
   "execution_count": 24,
   "id": "99377ff6-979c-4cca-9c25-b2bc6f975005",
   "metadata": {},
   "outputs": [
    {
     "data": {
      "text/plain": [
       "Text(0.5, 1.0, 'Mkt Neutral Portfolio 1 Rolling Beta to Market')"
      ]
     },
     "execution_count": 24,
     "metadata": {},
     "output_type": "execute_result"
    },
    {
     "data": {
      "image/png": "[encoded data removed]",
      "text/plain": [
       "<Figure size 1800x800 with 1 Axes>"
      ]
     },
     "metadata": {},
     "output_type": "display_data"
    }
   ],
   "source": [
    "portfolio_one_beta.plot(figsize=(18, 8))\n",
    "plt.axhline(portfolio_one_beta.mean(), color=\"red\")\n",
    "plt.title(\"Mkt Neutral Portfolio 1 Rolling Beta to Market\")"
   ]
  },
  {
   "cell_type": "code",
   "execution_count": null,
   "id": "c0fb5a18-3bc3-466f-bddc-6e7b4b988c96",
   "metadata": {},
   "outputs": [],
   "source": [
    "portfolio_two_beta.plot(figsize=(18, 8))\n",
    "plt.axhline(portfolio_two_beta.mean(), color=\"red\")\n",
    "plt.title(\"Mkt Neutral Portfolio 2 Rolling Beta to Market\")"
   ]
  },
  {
   "cell_type": "code",
   "execution_count": null,
   "id": "cc627b90-8188-4167-82f9-1679022a1b7a",
   "metadata": {},
   "outputs": [],
   "source": [
    "test_return_df_one = test_return_df.copy()\n",
    "\n",
    "# process the order of the weights_df_solution_one and test_return_df_one are the same\n",
    "weights_df_solution_one = weights_df_solution_one.T.sort_index().T\n",
    "test_return_df_one = test_return_df_one.T.sort_index().T.drop(benchmark_token, axis=1)\n",
    "# test_return_df_one = test_return_df_one.T.sort_index().T\n",
    "\n",
    "portfolio_ret = (weights_df_solution_one.shift(1) * test_return_df_one).dropna().sum(axis=1)\n",
    "(1 + portfolio_ret).cumprod().plot(figsize=(18, 8), label=\"Mkt Neutral Portfolio\")\n",
    "(1 + full_return_df.loc[portfolio_ret.index][benchmark_token]).cumprod().plot()\n",
    "plt.grid()\n",
    "plt.legend()\n",
    "plt.title(\"Backtest of Market Neutral Portfolio One Return\")"
   ]
  },
  {
   "cell_type": "code",
   "execution_count": null,
   "id": "69a64fdb-3d1e-4268-8478-e397145aff68",
   "metadata": {},
   "outputs": [],
   "source": [
    "test_return_df_two = test_return_df.copy()\n",
    "\n",
    "# process the order of the weights_df_solution_two and test_return_df_two are the same\n",
    "weights_df_solution_two = weights_df_solution_two.T.sort_index().T\n",
    "test_return_df_two = test_return_df_two.T.sort_index().T.drop(benchmark_token, axis=1)\n",
    "# test_return_df_two = test_return_df_two.T.sort_index().T\n",
    "\n",
    "portfolio_ret = (weights_df_solution_two.shift(1) * test_return_df_two).dropna().sum(axis=1)\n",
    "(1 + portfolio_ret).cumprod().plot(figsize=(18, 8), label=\"Mkt Neutral Portfolio\")\n",
    "(1 + full_return_df.loc[portfolio_ret.index][benchmark_token]).cumprod().plot()\n",
    "plt.grid()\n",
    "plt.legend()\n",
    "plt.title(\"Backtest of Market Neutral Portfolio Two Return\")"
   ]
  },
  {
   "cell_type": "code",
   "execution_count": null,
   "id": "50fe200e-18d7-4529-a7f6-363745a00395",
   "metadata": {},
   "outputs": [],
   "source": []
  }
 ],
 "metadata": {
  "kernelspec": {
   "display_name": "venv",
   "language": "python",
   "name": "venv"
  },
  "language_info": {
   "codemirror_mode": {
    "name": "ipython",
    "version": 3
   },
   "file_extension": ".py",
   "mimetype": "text/x-python",
   "name": "python",
   "nbconvert_exporter": "python",
   "pygments_lexer": "ipython3",
   "version": "3.9.6"
  },
  "papermill": {
   "default_parameters": {},
   "duration": 34.659839,
   "end_time": "2023-11-01T02:04:21.309361",
   "environment_variables": {},
   "exception": null,
   "input_path": "__notebook__.ipynb",
   "output_path": "__notebook__.ipynb",
   "parameters": {},
   "start_time": "2023-11-01T02:03:46.649522",
   "version": "2.4.0"
  }
 },
 "nbformat": 4,
 "nbformat_minor": 5
}
